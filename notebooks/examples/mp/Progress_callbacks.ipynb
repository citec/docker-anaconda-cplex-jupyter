{
 "cells": [
  {
   "cell_type": "markdown",
   "metadata": {
    "deletable": true,
    "editable": true,
    "render": true
   },
   "source": [
    "# Using the Progress Callbacks with CPLEX Optimizer\n",
    "\n",
    "This tutorial includes everything you need to set up decision optimization engines, build a mathematical programming model, then use the progress callbacks to follow the progress, capture the intermediate solutions and stop the solve on your own criteria.\n",
    "\n",
    "\n",
    "When you finish this tutorial, you'll have a foundational knowledge of _Prescriptive Analytics_.\n",
    "\n",
    ">This notebook is part of the **[Prescriptive Analytics for Python](https://rawgit.com/IBMDecisionOptimization/docplex-doc/master/docs/index.html)**\n",
    "\n",
    ">It requires a valid subscription to **Decision Optimization on the Cloud** or a **local installation of CPLEX Optimizers**. \n",
    "\n",
    "Discover us [here](https://developer.ibm.com/docloud)\n",
    "\n",
    "\n",
    "Table of contents:\n",
    "\n",
    "-  [Describe the business problem](#Describe-the-business-problem:--Games-Scheduling-in-the-National-Football-League)\n",
    "*  [How decision optimization (prescriptive analytics) can help](#How--decision-optimization-can-help)\n",
    "*  [Use decision optimization](#Use-decision-optimization)\n",
    "    *  [Step 1: Download the library](#Step-1:-Download-the-library)\n",
    "    *  [Step 2: Set up the engines](#Step-2:-Set-up-the-prescriptive-engine)\n",
    "    *  [Step 3: Set up the prescriptive model](#Step-3:-Set-up-the-prescriptive-model)\n",
    "    *  [Step 4: Track the CPLEX progress](#Step-4:-Track-the-CPLEX-progress)\n",
    "*  [Summary](#Summary)\n",
    "****"
   ]
  },
  {
   "cell_type": "markdown",
   "metadata": {
    "deletable": true,
    "editable": true,
    "render": true
   },
   "source": [
    "## How  decision optimization can help\n",
    "\n",
    "* Prescriptive analytics (decision optimization) technology recommends actions that are based on desired outcomes.  It takes into account specific scenarios, resources, and knowledge of past and current events. With this insight, your organization can make better decisions and have greater control of business outcomes.  \n",
    "\n",
    "* Prescriptive analytics is the next step on the path to insight-based actions. It creates value through synergy with predictive analytics, which analyzes data to predict future outcomes.  \n",
    "\n",
    "* Prescriptive analytics takes that insight to the next level by suggesting the optimal way to handle that future situation. Organizations that can act fast in dynamic conditions and make superior decisions in uncertain environments gain a strong competitive advantage.  \n",
    "<br/>\n",
    "\n",
    "<u>With prescriptive analytics, you can:</u> \n",
    "\n",
    "* Automate the complex decisions and trade-offs to better manage your limited resources.\n",
    "* Take advantage of a future opportunity or mitigate a future risk.\n",
    "* Proactively update recommendations based on changing events.\n",
    "* Meet operational goals, increase customer loyalty, prevent threats and fraud, and optimize business processes.\n",
    "\n"
   ]
  },
  {
   "cell_type": "markdown",
   "metadata": {
    "deletable": true,
    "editable": true
   },
   "source": [
    "## Use decision optimization"
   ]
  },
  {
   "cell_type": "markdown",
   "metadata": {
    "deletable": true,
    "editable": true
   },
   "source": [
    "### Step 1: Download the library\n",
    "\n",
    "Run the following code to install Decision Optimization CPLEX Modeling library.  The *DOcplex* library contains the two modeling packages, Mathematical Programming and Constraint Programming, referred to earlier."
   ]
  },
  {
   "cell_type": "code",
   "execution_count": 73,
   "metadata": {
    "collapsed": false
   },
   "outputs": [],
   "source": [
    "import docplex\n",
    "check = (docplex.__version__ >= '2.1')"
   ]
  },
  {
   "cell_type": "code",
   "execution_count": 74,
   "metadata": {
    "collapsed": false,
    "deletable": true,
    "editable": true
   },
   "outputs": [],
   "source": [
    "if check is False:\n",
    "    !conda install -y -c ibmdecisionoptimization docplex"
   ]
  },
  {
   "cell_type": "markdown",
   "metadata": {},
   "source": [
    "A restart of the kernel might be needed."
   ]
  },
  {
   "cell_type": "markdown",
   "metadata": {
    "deletable": true,
    "editable": true,
    "render": true
   },
   "source": [
    "### Step 2: Set up the prescriptive engine\n",
    "\n",
    "* Subscribe to the [Decision Optimization on Cloud solve service](https://developer.ibm.com/docloud).\n",
    "* Get the service URL and your personal API key."
   ]
  },
  {
   "cell_type": "code",
   "execution_count": 75,
   "metadata": {
    "collapsed": false,
    "deletable": true,
    "editable": true,
    "render": false
   },
   "outputs": [],
   "source": [
    "SVC_URL = \"ENTER YOUR URL HERE\"\n",
    "SVC_KEY = \"ENTER YOUR KEY HERE\""
   ]
  },
  {
   "cell_type": "markdown",
   "metadata": {
    "deletable": true,
    "editable": true,
    "render": true
   },
   "source": [
    "### Step 3: Set up the prescriptive model"
   ]
  },
  {
   "cell_type": "markdown",
   "metadata": {},
   "source": [
    "We will write a scalable model just in order to show how to use the progress callback API.\n",
    "\n",
    "This model is not important: it is a model that can take very long to solve and will find multiple intermediate solutions"
   ]
  },
  {
   "cell_type": "code",
   "execution_count": 76,
   "metadata": {
    "collapsed": true
   },
   "outputs": [],
   "source": [
    "from docplex.mp.model import Model\n",
    "\n",
    "def build_hearts(r, **kwargs):\n",
    "    # initialize the model\n",
    "    mdl = Model('love_hearts_%d' % r, **kwargs)\n",
    "\n",
    "    # the dictionary of decision variables, one variable\n",
    "    # for each circle with i in (1 .. r) as the row and\n",
    "    # j in (1 .. i) as the position within the row    \n",
    "    idx = [(i, j) for i in range(1, r + 1) for j in range(1, i + 1)]\n",
    "    a = mdl.binary_var_dict(idx, name=lambda idx_tuple: \"a_%d_%d\" % (idx_tuple[0], idx_tuple[1]))\n",
    "\n",
    "    # the constraints - enumerate all equilateral triangles\n",
    "    # and prevent any such triangles being formed by keeping\n",
    "    # the number of included circles at its vertexes below 3\n",
    "\n",
    "    # for each row except the last\n",
    "    for i in range(1, r):\n",
    "        # for each position in this row\n",
    "        for j in range(1, i + 1):\n",
    "            # for each triangle of side length (k) with its upper vertex at\n",
    "            # (i, j) and its sides parallel to those of the overall shape\n",
    "            for k in range(1, r - i + 1):\n",
    "                # the sets of 3 points at the same distances clockwise along the\n",
    "                # sides of these triangles form k equilateral triangles\n",
    "                for m in range(k):\n",
    "                    u, v, w = (i + m, j), (i + k, j + m), (i + k - m, j + k - m)\n",
    "                    mdl.add_constraint(a[u] + a[v] + a[w] <= 2)\n",
    "\n",
    "    mdl.maximize(mdl.sum(a))\n",
    "    return mdl"
   ]
  },
  {
   "cell_type": "markdown",
   "metadata": {},
   "source": [
    "It is perfect to demonstrate how to listen to CPLEX during its progress as it contains multiple intermediate solutions."
   ]
  },
  {
   "cell_type": "markdown",
   "metadata": {},
   "source": [
    "### Step 4: Track the CPLEX progress"
   ]
  },
  {
   "cell_type": "markdown",
   "metadata": {},
   "source": [
    "#### Basic track of the search progress\n",
    "We will use a <i>TextProgressListener</i> to follow the CPLEX search. It will print on the standard output each time an intermediate solution is found."
   ]
  },
  {
   "cell_type": "code",
   "execution_count": 77,
   "metadata": {
    "collapsed": false
   },
   "outputs": [],
   "source": [
    "m5 = build_hearts(5)\n",
    "\n",
    "from docplex.mp.progress import TextProgressListener\n",
    "unfiltered_texter = TextProgressListener(filtering=False)\n",
    "m5.add_progress_listener(unfiltered_texter)"
   ]
  },
  {
   "cell_type": "markdown",
   "metadata": {
    "deletable": true,
    "editable": true,
    "render": true
   },
   "source": [
    "#### Solve with Decision Optimization solve service \n",
    "\n",
    "If url and key are None, the Modeling layer will look for a local runtime, otherwise will use the credentials.\n",
    "Look at the documentation for a good understanding of the various solving/generation modes.\n",
    "\n",
    "If you're using a Community Edition of CPLEX runtimes, depending on the size of the problem, the solve stage may fail and will need a paying subscription or product installation.\n",
    "\n",
    "You will get the best solution found after ***n*** seconds, thanks to a time limit parameter."
   ]
  },
  {
   "cell_type": "code",
   "execution_count": 78,
   "metadata": {
    "collapsed": false
   },
   "outputs": [
    {
     "name": "stdout",
     "output_type": "stream",
     "text": [
      "  1+: Best Integer=5.0000, Best Bound=10.0000, gap=100.00%, nodes=0/1 [0.0s]\n",
      "  2+: Best Integer=5.0000, Best Bound=10.0000, gap=100.00%, nodes=0/1 [0.0s]\n",
      "  3+: Best Integer=7.0000, Best Bound=10.0000, gap=42.86%, nodes=0/1 [0.0s]\n",
      "  4+: Best Integer=7.0000, Best Bound=10.0000, gap=42.86%, nodes=0/1 [0.0s]\n",
      "  5+: Best Integer=7.0000, Best Bound=9.4700, gap=35.29%, nodes=0/1 [0.0s]\n",
      "  6+: Best Integer=8.0000, Best Bound=9.4700, gap=18.37%, nodes=0/1 [0.0s]\n",
      "  7+: Best Integer=8.0000, Best Bound=9.4700, gap=18.37%, nodes=0/1 [0.0s]\n",
      "  8+: Best Integer=8.0000, Best Bound=9.1442, gap=14.30%, nodes=0/1 [0.0s]\n",
      "  9+: Best Integer=8.0000, Best Bound=9.1442, gap=14.30%, nodes=0/1 [0.0s]\n",
      " 10+: Best Integer=8.0000, Best Bound=9.0702, gap=13.38%, nodes=0/1 [0.0s]\n",
      " 11+: Best Integer=8.0000, Best Bound=9.0702, gap=13.38%, nodes=0/1 [0.0s]\n"
     ]
    },
    {
     "data": {
      "text/plain": [
       "docplex.mp.solution.SolveSolution(obj=8,values={a_1_1:1,a_2_1:1,a_3_1:1,.."
      ]
     },
     "execution_count": 78,
     "metadata": {},
     "output_type": "execute_result"
    }
   ],
   "source": [
    "m5.solve(url=SVC_URL, key=SVC_KEY, clean_before_solve=True)"
   ]
  },
  {
   "cell_type": "markdown",
   "metadata": {},
   "source": [
    "Let's remove the listener."
   ]
  },
  {
   "cell_type": "code",
   "execution_count": 79,
   "metadata": {
    "collapsed": true
   },
   "outputs": [],
   "source": [
    "m5.remove_progress_listener(unfiltered_texter)"
   ]
  },
  {
   "cell_type": "markdown",
   "metadata": {},
   "source": [
    "#### Track and store all intermediate solutions"
   ]
  },
  {
   "cell_type": "markdown",
   "metadata": {},
   "source": [
    "You just need to subclass the <i>SolutionListener</i> object and specialize the <i>notify_*</i> methods if needed.\n",
    "Here we will store all solutions all along the way."
   ]
  },
  {
   "cell_type": "code",
   "execution_count": 80,
   "metadata": {
    "collapsed": false
   },
   "outputs": [],
   "source": [
    "from docplex.mp.progress import SolutionListener\n",
    "class MyProgressListener(SolutionListener):\n",
    "    def __init__(self, model):\n",
    "        SolutionListener.__init__(self, model)\n",
    "        self.solutions = []\n",
    " \n",
    "    def notify_solution(self, s):\n",
    "        SolutionListener.notify_solution(self, s)\n",
    "        self.solutions.append(self.current_solution)\n",
    " \n",
    "    def get_solutions(self):\n",
    "        return self.solutions\n",
    "    \n",
    "keeper = MyProgressListener(m5)\n",
    "m5.add_progress_listener(keeper)"
   ]
  },
  {
   "cell_type": "code",
   "execution_count": 81,
   "metadata": {
    "collapsed": false
   },
   "outputs": [
    {
     "data": {
      "text/plain": [
       "docplex.mp.solution.SolveSolution(obj=8,values={a_1_1:1,a_2_1:1,a_3_1:1,.."
      ]
     },
     "execution_count": 81,
     "metadata": {},
     "output_type": "execute_result"
    }
   ],
   "source": [
    "m5.solve(url=SVC_URL, key=SVC_KEY, clean_before_solve=True)"
   ]
  },
  {
   "cell_type": "markdown",
   "metadata": {},
   "source": [
    "We have stored <i>docplex.mp.solution.SolveSolution<i> objects.\n",
    "We can iterate on them to query the objective values, the values of each variables..."
   ]
  },
  {
   "cell_type": "code",
   "execution_count": 82,
   "metadata": {
    "collapsed": false
   },
   "outputs": [
    {
     "name": "stdout",
     "output_type": "stream",
     "text": [
      "5.0\n",
      "5.0\n",
      "7.0\n",
      "7.0\n",
      "7.0\n",
      "8.0\n",
      "8.0\n",
      "8.0\n",
      "8.0\n",
      "8.0\n",
      "8.0\n"
     ]
    }
   ],
   "source": [
    "for s in keeper.get_solutions():\n",
    "     print(s.objective_value)"
   ]
  },
  {
   "cell_type": "markdown",
   "metadata": {},
   "source": [
    "#### Implement our own aborter\n",
    "It may be nice to be able to abort the CPLEX on your own criteria.\n",
    "For example, when the gap is converging very slowly, it may be a good idea to stop and use the last solution instead of waiting forever.\n",
    "\n",
    "You just need to subclass the <i>ProgressListener</i> and specialize the <i>notify_*</i> methods."
   ]
  },
  {
   "cell_type": "code",
   "execution_count": 83,
   "metadata": {
    "collapsed": false
   },
   "outputs": [],
   "source": [
    "from docplex.mp.progress import ProgressListener\n",
    "class AutomaticAborter(ProgressListener):\n",
    "    def __init__(self, max_no_solutions=10):\n",
    "        self.last_incumbent_obj = -999999999\n",
    "        self.nb_solutions = 0\n",
    "        self.nb_non_improving = 0\n",
    "        self.max_non_improving = max_no_solutions\n",
    "\n",
    "    def notify_progress(self, progress_data):\n",
    "        super(AutomaticAborter, self).notify_progress(progress_data)\n",
    "        last_obj = self.last_incumbent_obj\n",
    "        if progress_data.has_incumbent:\n",
    "            if last_obj is None or progress_data.current_objective >= last_obj + 1e-5:\n",
    "                self.nb_solutions += 1\n",
    "                self.nb_non_improving = 0\n",
    "                print('----> #solutions={}'.format(self.nb_solutions))\n",
    "            else:\n",
    "\n",
    "                # non improving move\n",
    "                self.nb_non_improving += 1\n",
    "                print('----> #non improving solutions={}'.format(self.nb_non_improving))\n",
    "            self.last_incumbent_obj = progress_data.current_objective\n",
    "        else:\n",
    "            self.nb_non_improving += 1\n",
    "        if self.nb_non_improving >= self.max_non_improving:\n",
    "            if not self.has_aborted():\n",
    "                print('!! aborting cplex, #solutions={0}, #non-improving: {1}'.format(self.nb_solutions,\n",
    "                                                                                              self.nb_non_improving))\n",
    "            self.abort()"
   ]
  },
  {
   "cell_type": "markdown",
   "metadata": {},
   "source": [
    "Let's build a bigger problem with more solutions."
   ]
  },
  {
   "cell_type": "code",
   "execution_count": 84,
   "metadata": {
    "collapsed": true
   },
   "outputs": [],
   "source": [
    "love14 = build_hearts(11)"
   ]
  },
  {
   "cell_type": "code",
   "execution_count": 85,
   "metadata": {
    "collapsed": false
   },
   "outputs": [
    {
     "name": "stdout",
     "output_type": "stream",
     "text": [
      "----> #solutions=1\n",
      "----> #non improving solutions=1\n",
      "----> #solutions=2\n",
      "----> #non improving solutions=1\n",
      "----> #non improving solutions=2\n",
      "----> #non improving solutions=3\n",
      "----> #non improving solutions=4\n",
      "----> #non improving solutions=5\n",
      "----> #non improving solutions=6\n",
      "----> #non improving solutions=7\n",
      "----> #non improving solutions=8\n",
      "----> #non improving solutions=9\n",
      "----> #non improving solutions=10\n",
      "----> #non improving solutions=11\n",
      "----> #non improving solutions=12\n",
      "----> #non improving solutions=13\n",
      "----> #non improving solutions=14\n",
      "----> #non improving solutions=15\n",
      "----> #non improving solutions=16\n",
      "----> #non improving solutions=17\n",
      "----> #non improving solutions=18\n",
      "----> #non improving solutions=19\n",
      "----> #non improving solutions=20\n",
      "----> #non improving solutions=21\n",
      "----> #non improving solutions=22\n",
      "----> #non improving solutions=23\n",
      "----> #non improving solutions=24\n",
      "----> #non improving solutions=25\n",
      "----> #non improving solutions=26\n",
      "----> #non improving solutions=27\n",
      "----> #non improving solutions=28\n",
      "----> #non improving solutions=29\n",
      "----> #non improving solutions=30\n",
      "----> #non improving solutions=31\n",
      "----> #non improving solutions=32\n",
      "----> #non improving solutions=33\n",
      "----> #non improving solutions=34\n",
      "----> #non improving solutions=35\n",
      "----> #non improving solutions=36\n",
      "----> #non improving solutions=37\n",
      "----> #non improving solutions=38\n",
      "----> #non improving solutions=39\n",
      "----> #non improving solutions=40\n",
      "----> #non improving solutions=41\n",
      "----> #non improving solutions=42\n",
      "----> #non improving solutions=43\n",
      "----> #non improving solutions=44\n",
      "----> #non improving solutions=45\n",
      "----> #non improving solutions=46\n",
      "----> #non improving solutions=47\n",
      "----> #non improving solutions=48\n",
      "----> #non improving solutions=49\n",
      "----> #non improving solutions=50\n",
      "!! aborting cplex, #solutions=2, #non-improving: 50\n",
      "----> #non improving solutions=51\n"
     ]
    },
    {
     "data": {
      "text/plain": [
       "docplex.mp.solution.SolveSolution(obj=20,values={a_11_4:1,a_11_11:1,a_8_.."
      ]
     },
     "execution_count": 85,
     "metadata": {},
     "output_type": "execute_result"
    }
   ],
   "source": [
    "auto_abort = AutomaticAborter(max_no_solutions=50)\n",
    "love14.add_progress_listener(auto_abort)\n",
    "\n",
    "love14.solve(url=SVC_URL, key=SVC_KEY)"
   ]
  },
  {
   "cell_type": "markdown",
   "metadata": {
    "deletable": true,
    "editable": true
   },
   "source": [
    "## Summary\n",
    "\n",
    "\n",
    "You learned how to set up and use the IBM Decision Optimization CPLEX Modeling for Python to formulate a Mathematical Programming model and track its progress."
   ]
  },
  {
   "cell_type": "markdown",
   "metadata": {
    "deletable": true,
    "editable": true,
    "render": true
   },
   "source": [
    "#### References\n",
    "* [Decision Optimization CPLEX Modeling for Python documentation](https://rawgit.com/IBMDecisionOptimization/docplex-doc/master/docs/index.html)\n",
    "* [Decision Optimization on Cloud](https://developer.ibm.com/docloud/)\n",
    "* Need help with DOcplex or to report a bug? Please go [here](https://developer.ibm.com/answers/smartspace/docloud)\n",
    "* Contact us at dofeedback@wwpdl.vnet.ibm.com\"\n"
   ]
  },
  {
   "cell_type": "markdown",
   "metadata": {
    "deletable": true,
    "editable": true
   },
   "source": [
    "Copyright © 2017 IBM. Sample Materials."
   ]
  }
 ],
 "metadata": {
  "gist_id": "6011986",
  "kernelspec": {
   "display_name": "Python 3",
   "language": "python",
   "name": "python3"
  },
  "language_info": {
   "codemirror_mode": {
    "name": "ipython",
    "version": 3
   },
   "file_extension": ".py",
   "mimetype": "text/x-python",
   "name": "python",
   "nbconvert_exporter": "python",
   "pygments_lexer": "ipython3",
   "version": "3.5.3"
  }
 },
 "nbformat": 4,
 "nbformat_minor": 0
}
