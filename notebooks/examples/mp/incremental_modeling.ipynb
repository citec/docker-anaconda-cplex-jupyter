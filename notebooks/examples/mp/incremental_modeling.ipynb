{
 "cells": [
  {
   "cell_type": "markdown",
   "metadata": {
    "deletable": true,
    "editable": true,
    "render": true
   },
   "source": [
    "# Incremental modeling with decision optimization\n",
    "\n",
    "This tutorial includes everything you need to set up decision optimization engines, build a mathematical programming model, then incrementally modify it.\n",
    "You will learn how to:\n",
    "- change coefficients in an expression\n",
    "- add terms in an expression\n",
    "- modify constraints and variables bounds\n",
    "- remove/add constraints\n",
    "- play with relaxations\n",
    "\n",
    "\n",
    "When you finish this tutorial, you'll have a foundational knowledge of _Prescriptive Analytics_.\n",
    "\n",
    ">This notebook is part of the **[Prescriptive Analytics for Python](https://rawgit.com/IBMDecisionOptimization/docplex-doc/master/docs/index.html)**\n",
    "\n",
    ">It requires a valid subscription to **Decision Optimization on the Cloud** or a **local installation of CPLEX Optimizers**. \n",
    "\n",
    "Discover us [here](https://developer.ibm.com/docloud)\n",
    "\n",
    "\n",
    "Table of contents:\n",
    "\n",
    "-  [Describe the business problem](#Describe-the-business-problem:--Games-Scheduling-in-the-National-Football-League)\n",
    "*  [How decision optimization (prescriptive analytics) can help](#How--decision-optimization-can-help)\n",
    "*  [Use decision optimization](#Use-decision-optimization)\n",
    "    *  [Step 1: Download the library](#Step-1:-Download-the-library)\n",
    "    *  [Step 2: Set up the engines](#Step-2:-Set-up-the-prescriptive-engine)\n",
    "    *  [Step 3: Set up the prescriptive model](#Step-3:-Set-up-the-prescriptive-model)\n",
    "    *  [Step 4: Modify the model](#Step-4:-Modify-the-model)\n",
    "*  [Summary](#Summary)\n",
    "****"
   ]
  },
  {
   "cell_type": "markdown",
   "metadata": {
    "deletable": true,
    "editable": true,
    "render": true
   },
   "source": [
    "## Describe the business problem:  Telephone production\n",
    "\n",
    "A possible descriptive model of the telephone production problem is as follows:\n",
    "* Decision variables:\n",
    "   * Number of desk phones produced (DeskProduction)\n",
    "   * Number of cellular phones produced (CellProduction)\n",
    "Objective: Maximize profit\n",
    "* Constraints:\n",
    "   * The DeskProduction should be greater than or equal to 100.\n",
    "   * The CellProduction should be greater than or equal to 100.\n",
    "   * The assembly time for DeskProduction plus the assembly time for CellProduction should not exceed 400 hours.\n",
    "   * The painting time for DeskProduction plus the painting time for CellProduction should not exceed 490 hours.\n",
    "\n",
    "This is a type of discrete optimization problem that can be solved by using either **Integer Programming** (IP) or **Constraint Programming** (CP). \n",
    "\n",
    ">  **Integer Programming** is the class of problems defined as the optimization of a linear function, subject to linear constraints over integer variables. \n",
    "\n",
    ">  **Constraint Programming** problems generally have discrete decision variables, but the constraints can be logical, and the arithmetic expressions are not restricted to being linear. \n",
    "\n",
    "For the purposes of this tutorial, we will illustrate a solution with mathematical programming (MP).  \n"
   ]
  },
  {
   "cell_type": "markdown",
   "metadata": {
    "deletable": true,
    "editable": true,
    "render": true
   },
   "source": [
    "## How  decision optimization can help\n",
    "\n",
    "* Prescriptive analytics (decision optimization) technology recommends actions that are based on desired outcomes.  It takes into account specific scenarios, resources, and knowledge of past and current events. With this insight, your organization can make better decisions and have greater control of business outcomes.  \n",
    "\n",
    "* Prescriptive analytics is the next step on the path to insight-based actions. It creates value through synergy with predictive analytics, which analyzes data to predict future outcomes.  \n",
    "\n",
    "* Prescriptive analytics takes that insight to the next level by suggesting the optimal way to handle that future situation. Organizations that can act fast in dynamic conditions and make superior decisions in uncertain environments gain a strong competitive advantage.  \n",
    "<br/>\n",
    "\n",
    "<u>With prescriptive analytics, you can:</u> \n",
    "\n",
    "* Automate the complex decisions and trade-offs to better manage your limited resources.\n",
    "* Take advantage of a future opportunity or mitigate a future risk.\n",
    "* Proactively update recommendations based on changing events.\n",
    "* Meet operational goals, increase customer loyalty, prevent threats and fraud, and optimize business processes.\n",
    "\n"
   ]
  },
  {
   "cell_type": "markdown",
   "metadata": {
    "deletable": true,
    "editable": true
   },
   "source": [
    "## Use decision optimization"
   ]
  },
  {
   "cell_type": "markdown",
   "metadata": {
    "deletable": true,
    "editable": true
   },
   "source": [
    "### Step 1: Download the library\n",
    "\n",
    "Run the following code to install Decision Optimization CPLEX Modeling library.  The *DOcplex* library contains the two modeling packages, Mathematical Programming and Constraint Programming, referred to earlier."
   ]
  },
  {
   "cell_type": "code",
   "execution_count": 1,
   "metadata": {
    "collapsed": false
   },
   "outputs": [],
   "source": [
    "import docplex\n",
    "check = (docplex.__version__ >= '2.1')"
   ]
  },
  {
   "cell_type": "code",
   "execution_count": 2,
   "metadata": {
    "collapsed": false,
    "deletable": true,
    "editable": true
   },
   "outputs": [],
   "source": [
    "if check is False:\n",
    "    !conda install -y -c ibmdecisionoptimization docplex"
   ]
  },
  {
   "cell_type": "markdown",
   "metadata": {},
   "source": [
    "A restart of the kernel might be needed."
   ]
  },
  {
   "cell_type": "markdown",
   "metadata": {
    "deletable": true,
    "editable": true,
    "render": true
   },
   "source": [
    "### Step 2: Set up the prescriptive engine\n",
    "\n",
    "* Subscribe to the [Decision Optimization on Cloud solve service](https://developer.ibm.com/docloud).\n",
    "* Get the service URL and your personal API key."
   ]
  },
  {
   "cell_type": "code",
   "execution_count": 3,
   "metadata": {
    "collapsed": false,
    "deletable": true,
    "editable": true,
    "render": false
   },
   "outputs": [],
   "source": [
    "from docplex.mp.model import *\n",
    "SVC_URL = \"ENTER YOUR URL HERE\"\n",
    "SVC_KEY = \"ENTER YOUR KEY HERE\""
   ]
  },
  {
   "cell_type": "markdown",
   "metadata": {
    "deletable": true,
    "editable": true,
    "render": true
   },
   "source": [
    "### Step 3: Set up the prescriptive model"
   ]
  },
  {
   "cell_type": "markdown",
   "metadata": {},
   "source": [
    "#### Writing a mathematical model\n",
    "Convert the descriptive model into a mathematical model:\n",
    "* Use the two decision variables DeskProduction and CellProduction\n",
    "* Use the data given in the problem description (remember to convert minutes to hours where appropriate)\n",
    "* Write the objective as a mathematical expression\n",
    "* Write the constraints as mathematical expressions (use “=”, “<=”, or “>=”, and name the constraints to describe their purpose)\n",
    "* Define the domain for the decision variables\n",
    "\n",
    "\n",
    "#### Telephone production: a mathematical model\n",
    "To express the last two constraints, we model assembly time and painting time as linear combinations of the two productions, resulting in the following mathematical model:\n",
    "\n",
    "<code>maximize:  12 desk_production+20 cell_production\n",
    "\n",
    "subject to:  \n",
    "   desk_production>=100  \n",
    "   cell_production>=100  \n",
    "   0.2 desk_production+0.4 cell_production<=400  \n",
    "   0.5 desk_production+0.4 cell_production<=490\n",
    "</code>"
   ]
  },
  {
   "cell_type": "code",
   "execution_count": 4,
   "metadata": {
    "collapsed": true,
    "deletable": true,
    "editable": true
   },
   "outputs": [],
   "source": [
    "# first import the Model class from docplex.mp\n",
    "from docplex.mp.model import Model\n",
    "\n",
    "# create one model instance, with a name\n",
    "m = Model(name='telephone_production')"
   ]
  },
  {
   "cell_type": "markdown",
   "metadata": {
    "deletable": true,
    "editable": true,
    "render": true
   },
   "source": [
    "The continuous variable desk represents the production of desk telephones.\n",
    "The continuous variable cell represents the production of cell phones."
   ]
  },
  {
   "cell_type": "code",
   "execution_count": 5,
   "metadata": {
    "collapsed": true,
    "deletable": true,
    "editable": true
   },
   "outputs": [],
   "source": [
    "# by default, all variables in Docplex have a lower bound of 0 and infinite upper bound\n",
    "desk = m.integer_var(name='desk')\n",
    "cell = m.integer_var(name='cell')"
   ]
  },
  {
   "cell_type": "code",
   "execution_count": 6,
   "metadata": {
    "collapsed": true
   },
   "outputs": [],
   "source": [
    "m.maximize(12 * desk + 20 * cell)\n",
    "\n",
    "# write constraints\n",
    "# constraint #1: desk production is greater than 100\n",
    "m.add_constraint(desk >= 100, \"desk\")\n",
    "\n",
    "# constraint #2: cell production is greater than 100\n",
    "m.add_constraint(cell >= 100, \"cell\")\n",
    "\n",
    "# constraint #3: assembly time limit\n",
    "ct_assembly = m.add_constraint( 0.2 * desk + 0.4 * cell <= 400, \"assembly_limit\")\n",
    "\n",
    "# constraint #4: paiting time limit\n",
    "ct_painting = m.add_constraint( 0.5 * desk + 0.4 * cell <= 490, \"painting_limit\")"
   ]
  },
  {
   "cell_type": "markdown",
   "metadata": {
    "deletable": true,
    "editable": true,
    "render": true
   },
   "source": [
    "#### Solve with Decision Optimization solve service \n",
    "\n",
    "If url and key are None, the Modeling layer will look for a local runtime, otherwise will use the credentials.\n",
    "Look at the documentation for a good understanding of the various solving/generation modes.\n",
    "\n",
    "If you're using a Community Edition of CPLEX runtimes, depending on the size of the problem, the solve stage may fail and will need a paying subscription or product installation.\n",
    "\n",
    "You will get the best solution found after ***n*** seconds, thanks to a time limit parameter."
   ]
  },
  {
   "cell_type": "code",
   "execution_count": 7,
   "metadata": {
    "collapsed": false,
    "deletable": true,
    "editable": true
   },
   "outputs": [
    {
     "name": "stdout",
     "output_type": "stream",
     "text": [
      "Model: telephone_production\n",
      " - number of variables: 2\n",
      "   - binary=0, integer=2, continuous=0\n",
      " - number of constraints: 4\n",
      "   - linear=4\n",
      " - parameters: defaults\n"
     ]
    }
   ],
   "source": [
    "m.print_information()\n",
    "msol = m.solve(url=SVC_URL, key=SVC_KEY)"
   ]
  },
  {
   "cell_type": "code",
   "execution_count": 8,
   "metadata": {
    "collapsed": false
   },
   "outputs": [
    {
     "name": "stdout",
     "output_type": "stream",
     "text": [
      "objective: 20600\n",
      "  desk=300\n",
      "  cell=850\n"
     ]
    }
   ],
   "source": [
    "assert msol is not None, \"model can't solve\"\n",
    "m.print_solution()"
   ]
  },
  {
   "cell_type": "markdown",
   "metadata": {
    "deletable": true,
    "editable": true,
    "render": true
   },
   "source": [
    "### Step 4: Modify the model"
   ]
  },
  {
   "cell_type": "markdown",
   "metadata": {},
   "source": [
    "#### Modify constraints and variables bounds"
   ]
  },
  {
   "cell_type": "markdown",
   "metadata": {},
   "source": [
    "The model object provides getters to retrieve variables and constraints by name:\n",
    "* get_var_by_name\n",
    "* get_constraint_by_name\n",
    "The variable and constraint objects both provide properties to access the right hand side (rhs) and left hand side (lhs).\n",
    "When you modify a rhs or lhs of a variable, you of course need to give a number.\n",
    "When you modify a rhs or lhs of a constraint, you can give a number or an expression based on variables.\n",
    "\n",
    "Let's say we want to build 2000 cells and 1000 desks maximum.\n",
    "\n",
    "And let's say we want to increase the production of both of them from 100 to 350"
   ]
  },
  {
   "cell_type": "code",
   "execution_count": 9,
   "metadata": {
    "collapsed": false
   },
   "outputs": [],
   "source": [
    "# Access by name\n",
    "m.get_var_by_name(\"desk\").ub = 2000\n",
    "# acess via the object\n",
    "cell.ub = 1000\n",
    "\n",
    "\n",
    "m.get_constraint_by_name(\"desk\").rhs = 350\n",
    "m.get_constraint_by_name(\"cell\").rhs = 350"
   ]
  },
  {
   "cell_type": "code",
   "execution_count": 10,
   "metadata": {
    "collapsed": false
   },
   "outputs": [
    {
     "name": "stdout",
     "output_type": "stream",
     "text": [
      "objective: 19940\n",
      "  desk=350\n",
      "  cell=787\n"
     ]
    }
   ],
   "source": [
    "msol = m.solve(url=SVC_URL, key=SVC_KEY)\n",
    "assert msol is not None, \"model can't solve\"\n",
    "m.print_solution()"
   ]
  },
  {
   "cell_type": "markdown",
   "metadata": {},
   "source": [
    "The production plan has been updated accordingly to our small changes."
   ]
  },
  {
   "cell_type": "markdown",
   "metadata": {},
   "source": [
    "#### Modify expressions"
   ]
  },
  {
   "cell_type": "markdown",
   "metadata": {},
   "source": [
    "We now want to introduce a new type of product: the \"hybrid\" telephone."
   ]
  },
  {
   "cell_type": "code",
   "execution_count": 11,
   "metadata": {
    "collapsed": true
   },
   "outputs": [],
   "source": [
    "hybrid = m.integer_var(name='hybrid')"
   ]
  },
  {
   "cell_type": "markdown",
   "metadata": {},
   "source": [
    "We need to:\n",
    "- introduce it in the objective\n",
    "- introduce it in the existing painting and assembly time constraints \n",
    "- add a new constraint for its production to produce at least 350 of them."
   ]
  },
  {
   "cell_type": "code",
   "execution_count": 12,
   "metadata": {
    "collapsed": false
   },
   "outputs": [
    {
     "data": {
      "text/plain": [
       "''"
      ]
     },
     "execution_count": 12,
     "metadata": {},
     "output_type": "execute_result"
    }
   ],
   "source": [
    "m.add_constraint(hybrid >= 350)\n",
    ";"
   ]
  },
  {
   "cell_type": "markdown",
   "metadata": {},
   "source": [
    "The objective will move from\n",
    "<code>\n",
    "maximize:  12 desk_production+20 cell_production\n",
    "</code>\n",
    "to\n",
    "<code>\n",
    "maximize:  12 desk_production+20 cell_production + 10 hybrid_prodction\n",
    "</code>"
   ]
  },
  {
   "cell_type": "code",
   "execution_count": 13,
   "metadata": {
    "collapsed": false
   },
   "outputs": [
    {
     "data": {
      "text/plain": [
       "''"
      ]
     },
     "execution_count": 13,
     "metadata": {},
     "output_type": "execute_result"
    }
   ],
   "source": [
    "m.get_objective_expr().add_term(hybrid, 10)\n",
    ";"
   ]
  },
  {
   "cell_type": "markdown",
   "metadata": {},
   "source": [
    "The time constraints will be updated from \n",
    "<code>\n",
    "0.2 desk_production+0.4 cell_production<=400\n",
    "0.5 desk_production+0.4 cell_production<=490\n",
    "</code>\n",
    "to\n",
    "<code>\n",
    "0.2 desk_production+0.4 cell_production + 0.2 hybrid_production<=400\n",
    "0.5 desk_production+0.4 cell_production + 0.2 hybrid_production<=490\n",
    "</code>"
   ]
  },
  {
   "cell_type": "markdown",
   "metadata": {},
   "source": [
    "When you add a constraint to a model, its object is returned to you by the method add_constraint.\n",
    "If you don't have it, you can access it via its name"
   ]
  },
  {
   "cell_type": "code",
   "execution_count": 14,
   "metadata": {
    "collapsed": false
   },
   "outputs": [
    {
     "data": {
      "text/plain": [
       "''"
      ]
     },
     "execution_count": 14,
     "metadata": {},
     "output_type": "execute_result"
    }
   ],
   "source": [
    "m.get_constraint_by_name(\"assembly_limit\").lhs.add_term(hybrid, 0.2)\n",
    "ct_painting.lhs.add_term(hybrid, 0.2)\n",
    ";"
   ]
  },
  {
   "cell_type": "markdown",
   "metadata": {},
   "source": [
    "We can now compute the new production plan for our 3 products"
   ]
  },
  {
   "cell_type": "code",
   "execution_count": 15,
   "metadata": {
    "collapsed": false
   },
   "outputs": [
    {
     "name": "stdout",
     "output_type": "stream",
     "text": [
      "objective: 19950\n",
      "  desk=350\n",
      "  cell=612\n",
      "  hybrid=351\n"
     ]
    }
   ],
   "source": [
    "msol = m.solve(url=SVC_URL, key=SVC_KEY)\n",
    "assert msol is not None, \"model can't solve\"\n",
    "m.print_solution()"
   ]
  },
  {
   "cell_type": "markdown",
   "metadata": {},
   "source": [
    "Let's now say we improved our painting process, the distribution of the coefficients in the painting limits is not [0.5, 0.4, 0.2] anymore but [0.1, 0.1, 0.1]\n",
    "When you have the hand on an expression, you can modify the coefficient variable by variable with set_coefficient or via a list of (variable, coeff) with set_coefficients"
   ]
  },
  {
   "cell_type": "code",
   "execution_count": 16,
   "metadata": {
    "collapsed": false
   },
   "outputs": [],
   "source": [
    "ct_painting.lhs.set_coefficients([(desk, 0.1), (cell, 0.1), (hybrid, 0.1)])"
   ]
  },
  {
   "cell_type": "code",
   "execution_count": 17,
   "metadata": {
    "collapsed": false
   },
   "outputs": [
    {
     "name": "stdout",
     "output_type": "stream",
     "text": [
      "objective: 21900\n",
      "  desk=950\n",
      "  cell=350\n",
      "  hybrid=350\n"
     ]
    }
   ],
   "source": [
    "msol = m.solve(url=SVC_URL, key=SVC_KEY)\n",
    "assert msol is not None, \"model can't solve\"\n",
    "m.print_solution()"
   ]
  },
  {
   "cell_type": "markdown",
   "metadata": {},
   "source": [
    "#### Relaxations"
   ]
  },
  {
   "cell_type": "markdown",
   "metadata": {},
   "source": [
    "Let's now introduce a new constraint: polishing time limit. "
   ]
  },
  {
   "cell_type": "code",
   "execution_count": 18,
   "metadata": {
    "collapsed": true
   },
   "outputs": [],
   "source": [
    "# constraint: polishing time limit\n",
    "ct_polishing = m.add_constraint( 0.6 * desk + 0.6 * cell + 0.3 * hybrid <= 290, \"polishing_limit\")"
   ]
  },
  {
   "cell_type": "code",
   "execution_count": 19,
   "metadata": {
    "collapsed": false,
    "scrolled": true
   },
   "outputs": [
    {
     "name": "stdout",
     "output_type": "stream",
     "text": [
      "model can't solve\n"
     ]
    }
   ],
   "source": [
    "msol = m.solve(url=SVC_URL, key=SVC_KEY)\n",
    "if msol is None:\n",
    "    print(\"model can't solve\")"
   ]
  },
  {
   "cell_type": "markdown",
   "metadata": {},
   "source": [
    "The model is now infeasible. We need to handle it and dig into the infeasibilities."
   ]
  },
  {
   "cell_type": "markdown",
   "metadata": {},
   "source": [
    "You can now use the Relaxer object. You can control the way it will relax the constraints or you can use 1 of the various automatic modes:\n",
    "- 'all' relaxes all constraints using a MEDIUM priority; this is the default.\n",
    "- 'named' relaxes all constraints with a user name but not the others.\n",
    "- 'match' looks for priority names within constraint names; unnamed constraints are not relaxed.\n",
    "\n",
    "We will use the 'match' mode.\n",
    "Polishing constraint is mandatory.\n",
    "Painting constraint is a nice to have.\n",
    "Assembly constraint has low priority."
   ]
  },
  {
   "cell_type": "code",
   "execution_count": 20,
   "metadata": {
    "collapsed": false
   },
   "outputs": [],
   "source": [
    "ct_polishing.name = \"high_\"+ct_polishing.name\n",
    "ct_assembly.name = \"low_\"+ct_assembly.name\n",
    "ct_painting.name = \"medium_\"+ct_painting.name"
   ]
  },
  {
   "cell_type": "code",
   "execution_count": 21,
   "metadata": {
    "collapsed": false
   },
   "outputs": [
    {
     "name": "stdout",
     "output_type": "stream",
     "text": [
      "-> relaxation #1 starts with priority: LOW, #relaxables=1\n",
      "<- relaxation #1 fails, priority: LOW, #relaxables=1\n",
      "-> relaxation #2 starts with priority: MEDIUM, #relaxables=2\n",
      "<- relaxation #2 fails, priority: MEDIUM, #relaxables=2\n",
      "-> relaxation #3 starts with priority: HIGH, #relaxables=3\n",
      "<- relaxation #3 succeeds: priority: HIGH, #relaxables=3, obj=14700, #relaxations=1\n",
      "* number of relaxations: 1\n",
      " - relaxed: high_polishing_limit, with relaxation: 235.0\n",
      "* total absolute relaxation: 235.0\n"
     ]
    }
   ],
   "source": [
    "# if a name contains \"low\", it has priority LOW\n",
    "# if a ct name contains \"medium\" it has priority MEDIUM\n",
    "# same for HIGH\n",
    "# if a constraint has no name or does not match any, it is not relaxable.\n",
    "from docplex.mp.relaxer import Relaxer\n",
    "relaxer = Relaxer(prioritizer='match', verbose=True)\n",
    "\n",
    "relaxed_sol = relaxer.relax(m, url=SVC_URL, key=SVC_KEY)\n",
    "relaxed_ok = relaxed_sol is not None\n",
    "assert relaxed_ok, \"relaxation failed\"\n",
    "relaxer.print_information()"
   ]
  },
  {
   "cell_type": "code",
   "execution_count": 22,
   "metadata": {
    "collapsed": false
   },
   "outputs": [
    {
     "name": "stdout",
     "output_type": "stream",
     "text": [
      "objective: 14700\n",
      "  desk=350\n",
      "  cell=350\n",
      "  hybrid=350\n"
     ]
    }
   ],
   "source": [
    "m.print_solution()"
   ]
  },
  {
   "cell_type": "code",
   "execution_count": 23,
   "metadata": {
    "collapsed": false
   },
   "outputs": [
    {
     "name": "stdout",
     "output_type": "stream",
     "text": [
      "* found slack of 235.0 for polish ct\n",
      "* model telephone_production solved with objective = 14700\n",
      "objective: 14700\n",
      "  desk=350\n",
      "  cell=350\n",
      "  hybrid=350\n"
     ]
    }
   ],
   "source": [
    "ct_polishing_relax = relaxer.get_relaxation(ct_polishing)\n",
    "print(\"* found slack of {0} for polish ct\".format(ct_polishing_relax))\n",
    "ct_polishing.rhs+= ct_polishing_relax\n",
    "m.solve(url=SVC_URL, key=SVC_KEY)\n",
    "m.report()\n",
    "m.print_solution()"
   ]
  },
  {
   "cell_type": "markdown",
   "metadata": {
    "deletable": true,
    "editable": true
   },
   "source": [
    "## Summary\n",
    "\n",
    "\n",
    "You learned how to set up and use the IBM Decision Optimization CPLEX Modeling for Python to formulate a Mathematical Programming model and modify it in various ways."
   ]
  },
  {
   "cell_type": "markdown",
   "metadata": {
    "deletable": true,
    "editable": true,
    "render": true
   },
   "source": [
    "#### References\n",
    "* [Decision Optimization CPLEX Modeling for Python documentation](https://rawgit.com/IBMDecisionOptimization/docplex-doc/master/docs/index.html)\n",
    "* [Decision Optimization on Cloud](https://developer.ibm.com/docloud/)\n",
    "* Need help with DOcplex or to report a bug? Please go [here](https://developer.ibm.com/answers/smartspace/docloud)\n",
    "* Contact us at dofeedback@wwpdl.vnet.ibm.com\"\n"
   ]
  },
  {
   "cell_type": "markdown",
   "metadata": {
    "deletable": true,
    "editable": true
   },
   "source": [
    "Copyright © 2017 IBM. Sample Materials."
   ]
  }
 ],
 "metadata": {
  "gist_id": "6011986",
  "kernelspec": {
   "display_name": "Python 2",
   "language": "python",
   "name": "python2"
  },
  "language_info": {
   "codemirror_mode": {
    "name": "ipython",
    "version": 2
   },
   "file_extension": ".py",
   "mimetype": "text/x-python",
   "name": "python",
   "nbconvert_exporter": "python",
   "pygments_lexer": "ipython2",
   "version": "2.7.11"
  }
 },
 "nbformat": 4,
 "nbformat_minor": 0
}
