{
 "cells": [
  {
   "cell_type": "markdown",
   "metadata": {},
   "source": [
    "# The Nurses Model\n",
    "\n",
    "This tutorial includes everything you need to set up IBM Decision Optimization CPLEX Modeling for Python (DOcplex), build a Mathematical Programming model, and get its solution by solving the model on the cloud with IBM ILOG CPLEX Optimizer.\n",
    "\n",
    "When you finish this tutorial, you'll have a foundational knowledge of _Prescriptive Analytics_.\n",
    "\n",
    ">This notebook is part of [Prescriptive Analytics for Python](https://rawgit.com/IBMDecisionOptimization/docplex-doc/master/docs/index.html).\n",
    "\n",
    ">It requires a valid subscription to **Decision Optimization on Cloud** or a **local installation of CPLEX Optimizers**. \n",
    "Discover us [here](https://developer.ibm.com/docloud).\n",
    "\n",
    "\n",
    "Table of contents:\n",
    "\n",
    "-  [Describe the business problem](#Describe-the-business-problem)\n",
    "*  [How decision optimization (prescriptive analytics) can help](#How--decision-optimization-can-help)\n",
    "*  [Use decision optimization](#Use-decision-optimization)\n",
    "    *  [Step 1: Download the library](#Step-1:-Download-the-library)\n",
    "    *  [Step 2: Set up the engines](#Step-2:-Set-up-the-prescriptive-engine)\n",
    "    -  [Step 3: Model the data](#Step-3:-Model-the-data)\n",
    "    *  [Step 4: Prepare the data](#Step-4:-Prepare-the-data)\n",
    "    -  [Step 5: Set up the prescriptive model](#Step-5:-Set-up-the-prescriptive-model)\n",
    "        * [Define the decision variables](#Define-the-decision-variables)\n",
    "        * [Express the business constraints](#Express-the-business-constraints)\n",
    "        * [Express the objective](#Express-the-objective)\n",
    "        * [Solve with the Decision Optimization solve service](#Solve-with-the-Decision-Optimization-solve-service)\n",
    "    *  [Step 6: Investigate the solution and run an example analysis](#Step-6:-Investigate-the-solution-and-then-run-an-example-analysis)\n",
    "*  [Summary](#Summary)\n",
    "\n",
    "****"
   ]
  },
  {
   "cell_type": "markdown",
   "metadata": {
    "collapsed": true
   },
   "source": [
    "## Describe the business problem\n",
    "\n",
    "This model deals with nurse scheduling. Nurses must be assigned to hospital shifts in accordance with various skill and staffing constraints.\n",
    "\n",
    "The goal of the model is to find an efficient balance between the different objectives:\n",
    "\n",
    "* minimize the overall cost of the plan and\n",
    "* assign shifts as fairly as possible.\n"
   ]
  },
  {
   "cell_type": "markdown",
   "metadata": {},
   "source": [
    "## How  decision optimization can help\n",
    "\n",
    "* Prescriptive analytics (decision optimization) technology recommends actions that are based on desired outcomes.  It takes into account specific scenarios, resources, and knowledge of past and current events. With this insight, your organization can make better decisions and have greater control of business outcomes.  \n",
    "\n",
    "* Prescriptive analytics is the next step on the path to insight-based actions. It creates value through synergy with predictive analytics, which analyzes data to predict future outcomes.  \n",
    "\n",
    "* Prescriptive analytics takes that insight to the next level by suggesting the optimal way to handle that future situation. Organizations that can act fast in dynamic conditions and make superior decisions in uncertain environments gain a strong competitive advantage.  \n",
    "<br/>\n",
    "\n",
    "<u>With prescriptive analytics, you can:</u> \n",
    "\n",
    "* Automate the complex decisions and trade-offs to better manage your limited resources.\n",
    "* Take advantage of a future opportunity or mitigate a future risk.\n",
    "* Proactively update recommendations based on changing events.\n",
    "* Meet operational goals, increase customer loyalty, prevent threats and fraud, and optimize business processes."
   ]
  },
  {
   "cell_type": "markdown",
   "metadata": {},
   "source": [
    "## Use decision optimization"
   ]
  },
  {
   "cell_type": "markdown",
   "metadata": {},
   "source": [
    "### Step 1: Download the library\n",
    "\n",
    "Run the following code to install Decision Optimization CPLEX Modeling library.  The *DOcplex* library contains the two modeling packages, Mathematical Programming and Constraint Programming."
   ]
  },
  {
   "cell_type": "code",
   "execution_count": 1,
   "metadata": {
    "collapsed": true
   },
   "outputs": [],
   "source": [
    "import sys\n",
    "try:\n",
    "    import docplex.mp\n",
    "except:\n",
    "    if hasattr(sys, 'real_prefix'):\n",
    "        #we are in a virtual env.\n",
    "        !pip install docplex \n",
    "    else:\n",
    "        !pip install --user docplex  "
   ]
  },
  {
   "cell_type": "markdown",
   "metadata": {},
   "source": [
    "### Step 2: Set up the prescriptive engine\n",
    "\n",
    "* Subscribe to our private cloud offer or Decision Optimization on Cloud solve service [here](https://developer.ibm.com/docloud) if you do not want to use a local solver.\n",
    "* Get the service URL and your personal API key and enter your credentials here if accurate:"
   ]
  },
  {
   "cell_type": "code",
   "execution_count": 2,
   "metadata": {
    "collapsed": true
   },
   "outputs": [],
   "source": [
    "url = None\n",
    "key = None"
   ]
  },
  {
   "cell_type": "markdown",
   "metadata": {},
   "source": [
    "### Step 3: Model the data\n",
    "\n",
    "Input data consists of several tables:\n",
    "\n",
    "* The Departments table lists all departments in the scope of the assignment.\n",
    "* The Skills table list all skills.\n",
    "* The Shifts table lists all shifts to be staffed. A shift contains a department, a day in the week, plus the start and end times.\n",
    "* The Nurses table lists all nurses, identified by their names.\n",
    "* The NurseSkills table gives the skills of each nurse.\n",
    "* The SkillRequirements table lists the minimum number of persons required for a given department and skill.\n",
    "* The NurseVacations table lists days off for each nurse.\n",
    "* The NurseAssociations table lists pairs of nurses who wish to work together.\n",
    "* The NurseIncompatibilities table lists pairs of nurses who do not want to work together\n",
    ".\n",
    "In addition, the plan has to satisfy a maximum worktime for all nurses, for example 40 hours a week."
   ]
  },
  {
   "cell_type": "markdown",
   "metadata": {},
   "source": [
    "### Step 4: Prepare the data\n",
    "\n",
    "Now we need some basic data structures to store information."
   ]
  },
  {
   "cell_type": "code",
   "execution_count": 3,
   "metadata": {
    "collapsed": true
   },
   "outputs": [],
   "source": [
    "from enum import Enum\n",
    "from collections import namedtuple\n",
    "\n",
    "# utility to conevrt a weekday string to an index in 0..6\n",
    "_all_days = [\"monday\", \"tuesday\", \"wednesday\", \"thursday\", \"friday\", \"saturday\", \"sunday\"]\n",
    "\n",
    "\n",
    "def day_to_day_week(day):\n",
    "    day_map = {day: d for d, day in enumerate(_all_days)}\n",
    "    return day_map[day.lower()]\n",
    "\n",
    "TWorkRules = namedtuple(\"TWorkRules\", [\"work_time_max\"])\n",
    "TVacation = namedtuple(\"TVacation\", [\"nurse\", \"day\"])\n",
    "TNursePair = namedtuple(\"TNursePair\", [\"firstNurse\", \"secondNurse\"])\n",
    "TNurseSkill = namedtuple(\"TNurseSkill\", [\"nurse\", \"skill\"])\n",
    "TSkillRequirement = namedtuple(\"TSkillRequirement\", [\"department\", \"skill\", \"required\"])\n",
    "\n",
    "\n",
    "# subclass the namedtuple to refine the str() method as the nurse's name\n",
    "class TNurse(namedtuple(\"TNurse1\", [\"name\", \"pay_rate\"])):\n",
    "    \"\"\" A subclass to redefine the default str() of namedtuple.\n",
    "    This class is used in variable naming, so we need to redefine the str() method\n",
    "    used by variable naming.\n",
    "    \"\"\"\n",
    "\n",
    "    def __str__(self):\n",
    "        return self.name\n",
    "\n",
    "\n",
    "class TShift(\n",
    "    namedtuple(\"TShift1\", [\"department\", \"day\", \"start_time\", \"end_time\", \"min_requirement\", \"max_requirement\"])):\n",
    "    \"\"\" specialize namedtuple to redefine its str() method\n",
    "    \"\"\"\n",
    "\n",
    "    def __str__(self):\n",
    "        # keep first two characters in departement, uppercased\n",
    "        dept2 = self.department[0:4].upper()\n",
    "        # keep 3 days of weekday\n",
    "        dayname = self.day[0:3]\n",
    "        return '%s_%s_%02d' % (dept2, dayname, self.start_time)\n",
    "    \n",
    "\n",
    "class ShiftActivity(object):\n",
    "    @staticmethod\n",
    "    def to_abstime(day_index, time_of_day):\n",
    "        \"\"\" Convert a pair (day_index, time) into a number of hours since Monday 00:00\n",
    "\n",
    "        :param day_index: The index of the day from 1 to 7 (Monday is 1).\n",
    "        :param time_of_day: An integer number of hours.\n",
    "\n",
    "        :return:\n",
    "        \"\"\"\n",
    "        time = 24 * (day_index - 1)\n",
    "        time += time_of_day\n",
    "        return time\n",
    "\n",
    "    def __init__(self, weekday, start_time_of_day, end_time_of_day):\n",
    "        assert (start_time_of_day >= 0)\n",
    "        assert (start_time_of_day <= 24)\n",
    "        assert (end_time_of_day >= 0)\n",
    "        assert (end_time_of_day <= 24)\n",
    "\n",
    "        self._weekday = weekday\n",
    "        self._start_time_of_day = start_time_of_day\n",
    "        self._end_time_of_day = end_time_of_day\n",
    "        # conversion to absolute time.\n",
    "        start_day_index = day_to_day_week(self._weekday)\n",
    "        self.start_time = self.to_abstime(start_day_index, start_time_of_day)\n",
    "        self.day_start_time = self.to_abstime(start_day_index, 0)\n",
    "        end_day_index = start_day_index if end_time_of_day > start_time_of_day else start_day_index + 1\n",
    "        self.end_time = self.to_abstime(end_day_index, end_time_of_day)\n",
    "        assert self.end_time > self.start_time\n",
    "\n",
    "    @property\n",
    "    def duration(self):\n",
    "        return self.end_time - self.start_time\n",
    "\n",
    "    def overlaps(self, other_shift):\n",
    "        if not isinstance(other_shift, ShiftActivity):\n",
    "            return False\n",
    "        else:\n",
    "            return other_shift.end_time > self.start_time and other_shift.start_time < self.end_time\n"
   ]
  },
  {
   "cell_type": "markdown",
   "metadata": {},
   "source": [
    "#### Loading data from Excel with pandas\n",
    "\n",
    "We load the data from an Excel file using *pandas*.\n",
    "Each sheet is read into a separate *pandas* DataFrame."
   ]
  },
  {
   "cell_type": "code",
   "execution_count": 4,
   "metadata": {
    "collapsed": true
   },
   "outputs": [],
   "source": [
    "CSS = \"\"\"\n",
    "body {\n",
    "    margin: 0;\n",
    "    font-family: Helvetica;\n",
    "}\n",
    "table.dataframe {\n",
    "    border-collapse: collapse;\n",
    "    border: none;\n",
    "}\n",
    "table.dataframe tr {\n",
    "    border: none;\n",
    "}\n",
    "table.dataframe td, table.dataframe th {\n",
    "    margin: 0;\n",
    "    border: 1px solid white;\n",
    "    padding-left: 0.25em;\n",
    "    padding-right: 0.25em;\n",
    "}\n",
    "table.dataframe th:not(:empty) {\n",
    "    background-color: #fec;\n",
    "    text-align: left;\n",
    "    font-weight: normal;\n",
    "}\n",
    "table.dataframe tr:nth-child(2) th:empty {\n",
    "    border-left: none;\n",
    "    border-right: 1px dashed #888;\n",
    "}\n",
    "table.dataframe td {\n",
    "    border: 2px solid #ccf;\n",
    "    background-color: #f4f4ff;\n",
    "}\n",
    "    table.dataframe thead th:first-child {\n",
    "        display: none;\n",
    "    }\n",
    "    table.dataframe tbody th {\n",
    "        display: none;\n",
    "    }\n",
    "\"\"\""
   ]
  },
  {
   "cell_type": "code",
   "execution_count": 5,
   "metadata": {
    "collapsed": false
   },
   "outputs": [],
   "source": [
    "from IPython.core.display import HTML\n",
    "HTML('<style>{}</style>'.format(CSS))\n",
    "\n",
    "from IPython.display import display"
   ]
  },
  {
   "cell_type": "code",
   "execution_count": 6,
   "metadata": {
    "collapsed": true
   },
   "outputs": [],
   "source": [
    "try:\n",
    "    from StringIO import StringIO\n",
    "except ImportError:\n",
    "    from io import StringIO"
   ]
  },
  {
   "cell_type": "code",
   "execution_count": 7,
   "metadata": {
    "collapsed": false
   },
   "outputs": [
    {
     "data": {
      "text/html": [
       "<div>\n",
       "<table border=\"1\" class=\"dataframe\">\n",
       "  <thead>\n",
       "    <tr style=\"text-align: right;\">\n",
       "      <th></th>\n",
       "      <th>name</th>\n",
       "      <th>seniority</th>\n",
       "      <th>qualification</th>\n",
       "      <th>pay_rate</th>\n",
       "    </tr>\n",
       "  </thead>\n",
       "  <tbody>\n",
       "    <tr>\n",
       "      <th>0</th>\n",
       "      <td>Anne</td>\n",
       "      <td>11</td>\n",
       "      <td>1</td>\n",
       "      <td>25</td>\n",
       "    </tr>\n",
       "    <tr>\n",
       "      <th>1</th>\n",
       "      <td>Bethanie</td>\n",
       "      <td>4</td>\n",
       "      <td>5</td>\n",
       "      <td>28</td>\n",
       "    </tr>\n",
       "    <tr>\n",
       "      <th>2</th>\n",
       "      <td>Betsy</td>\n",
       "      <td>2</td>\n",
       "      <td>2</td>\n",
       "      <td>17</td>\n",
       "    </tr>\n",
       "    <tr>\n",
       "      <th>3</th>\n",
       "      <td>Cathy</td>\n",
       "      <td>2</td>\n",
       "      <td>2</td>\n",
       "      <td>17</td>\n",
       "    </tr>\n",
       "    <tr>\n",
       "      <th>4</th>\n",
       "      <td>Cecilia</td>\n",
       "      <td>9</td>\n",
       "      <td>5</td>\n",
       "      <td>38</td>\n",
       "    </tr>\n",
       "    <tr>\n",
       "      <th>5</th>\n",
       "      <td>Chris</td>\n",
       "      <td>11</td>\n",
       "      <td>4</td>\n",
       "      <td>38</td>\n",
       "    </tr>\n",
       "    <tr>\n",
       "      <th>6</th>\n",
       "      <td>Cindy</td>\n",
       "      <td>5</td>\n",
       "      <td>2</td>\n",
       "      <td>21</td>\n",
       "    </tr>\n",
       "    <tr>\n",
       "      <th>7</th>\n",
       "      <td>David</td>\n",
       "      <td>1</td>\n",
       "      <td>2</td>\n",
       "      <td>15</td>\n",
       "    </tr>\n",
       "    <tr>\n",
       "      <th>8</th>\n",
       "      <td>Debbie</td>\n",
       "      <td>7</td>\n",
       "      <td>2</td>\n",
       "      <td>24</td>\n",
       "    </tr>\n",
       "    <tr>\n",
       "      <th>9</th>\n",
       "      <td>Dee</td>\n",
       "      <td>3</td>\n",
       "      <td>3</td>\n",
       "      <td>21</td>\n",
       "    </tr>\n",
       "    <tr>\n",
       "      <th>10</th>\n",
       "      <td>Gloria</td>\n",
       "      <td>8</td>\n",
       "      <td>2</td>\n",
       "      <td>25</td>\n",
       "    </tr>\n",
       "    <tr>\n",
       "      <th>11</th>\n",
       "      <td>Isabelle</td>\n",
       "      <td>3</td>\n",
       "      <td>1</td>\n",
       "      <td>16</td>\n",
       "    </tr>\n",
       "    <tr>\n",
       "      <th>12</th>\n",
       "      <td>Jane</td>\n",
       "      <td>3</td>\n",
       "      <td>4</td>\n",
       "      <td>23</td>\n",
       "    </tr>\n",
       "    <tr>\n",
       "      <th>13</th>\n",
       "      <td>Janelle</td>\n",
       "      <td>4</td>\n",
       "      <td>3</td>\n",
       "      <td>22</td>\n",
       "    </tr>\n",
       "    <tr>\n",
       "      <th>14</th>\n",
       "      <td>Janice</td>\n",
       "      <td>2</td>\n",
       "      <td>2</td>\n",
       "      <td>17</td>\n",
       "    </tr>\n",
       "    <tr>\n",
       "      <th>15</th>\n",
       "      <td>Jemma</td>\n",
       "      <td>2</td>\n",
       "      <td>4</td>\n",
       "      <td>22</td>\n",
       "    </tr>\n",
       "    <tr>\n",
       "      <th>16</th>\n",
       "      <td>Joan</td>\n",
       "      <td>5</td>\n",
       "      <td>3</td>\n",
       "      <td>24</td>\n",
       "    </tr>\n",
       "    <tr>\n",
       "      <th>17</th>\n",
       "      <td>Joyce</td>\n",
       "      <td>8</td>\n",
       "      <td>3</td>\n",
       "      <td>29</td>\n",
       "    </tr>\n",
       "    <tr>\n",
       "      <th>18</th>\n",
       "      <td>Jude</td>\n",
       "      <td>4</td>\n",
       "      <td>3</td>\n",
       "      <td>22</td>\n",
       "    </tr>\n",
       "    <tr>\n",
       "      <th>19</th>\n",
       "      <td>Julie</td>\n",
       "      <td>6</td>\n",
       "      <td>2</td>\n",
       "      <td>22</td>\n",
       "    </tr>\n",
       "    <tr>\n",
       "      <th>20</th>\n",
       "      <td>Juliet</td>\n",
       "      <td>7</td>\n",
       "      <td>4</td>\n",
       "      <td>31</td>\n",
       "    </tr>\n",
       "    <tr>\n",
       "      <th>21</th>\n",
       "      <td>Kate</td>\n",
       "      <td>5</td>\n",
       "      <td>3</td>\n",
       "      <td>24</td>\n",
       "    </tr>\n",
       "    <tr>\n",
       "      <th>22</th>\n",
       "      <td>Nancy</td>\n",
       "      <td>8</td>\n",
       "      <td>4</td>\n",
       "      <td>32</td>\n",
       "    </tr>\n",
       "    <tr>\n",
       "      <th>23</th>\n",
       "      <td>Nathalie</td>\n",
       "      <td>9</td>\n",
       "      <td>5</td>\n",
       "      <td>38</td>\n",
       "    </tr>\n",
       "    <tr>\n",
       "      <th>24</th>\n",
       "      <td>Nicole</td>\n",
       "      <td>0</td>\n",
       "      <td>2</td>\n",
       "      <td>14</td>\n",
       "    </tr>\n",
       "    <tr>\n",
       "      <th>25</th>\n",
       "      <td>Patricia</td>\n",
       "      <td>1</td>\n",
       "      <td>1</td>\n",
       "      <td>13</td>\n",
       "    </tr>\n",
       "    <tr>\n",
       "      <th>26</th>\n",
       "      <td>Patrick</td>\n",
       "      <td>6</td>\n",
       "      <td>1</td>\n",
       "      <td>19</td>\n",
       "    </tr>\n",
       "    <tr>\n",
       "      <th>27</th>\n",
       "      <td>Roberta</td>\n",
       "      <td>3</td>\n",
       "      <td>5</td>\n",
       "      <td>26</td>\n",
       "    </tr>\n",
       "    <tr>\n",
       "      <th>28</th>\n",
       "      <td>Suzanne</td>\n",
       "      <td>5</td>\n",
       "      <td>1</td>\n",
       "      <td>18</td>\n",
       "    </tr>\n",
       "    <tr>\n",
       "      <th>29</th>\n",
       "      <td>Vickie</td>\n",
       "      <td>7</td>\n",
       "      <td>1</td>\n",
       "      <td>20</td>\n",
       "    </tr>\n",
       "    <tr>\n",
       "      <th>30</th>\n",
       "      <td>Wendie</td>\n",
       "      <td>5</td>\n",
       "      <td>2</td>\n",
       "      <td>21</td>\n",
       "    </tr>\n",
       "    <tr>\n",
       "      <th>31</th>\n",
       "      <td>Zoe</td>\n",
       "      <td>8</td>\n",
       "      <td>3</td>\n",
       "      <td>29</td>\n",
       "    </tr>\n",
       "  </tbody>\n",
       "</table>\n",
       "</div>"
      ],
      "text/plain": [
       "        name  seniority  qualification  pay_rate\n",
       "0       Anne         11              1        25\n",
       "1   Bethanie          4              5        28\n",
       "2      Betsy          2              2        17\n",
       "3      Cathy          2              2        17\n",
       "4    Cecilia          9              5        38\n",
       "5      Chris         11              4        38\n",
       "6      Cindy          5              2        21\n",
       "7      David          1              2        15\n",
       "8     Debbie          7              2        24\n",
       "9        Dee          3              3        21\n",
       "10    Gloria          8              2        25\n",
       "11  Isabelle          3              1        16\n",
       "12      Jane          3              4        23\n",
       "13   Janelle          4              3        22\n",
       "14    Janice          2              2        17\n",
       "15     Jemma          2              4        22\n",
       "16      Joan          5              3        24\n",
       "17     Joyce          8              3        29\n",
       "18      Jude          4              3        22\n",
       "19     Julie          6              2        22\n",
       "20    Juliet          7              4        31\n",
       "21      Kate          5              3        24\n",
       "22     Nancy          8              4        32\n",
       "23  Nathalie          9              5        38\n",
       "24    Nicole          0              2        14\n",
       "25  Patricia          1              1        13\n",
       "26   Patrick          6              1        19\n",
       "27   Roberta          3              5        26\n",
       "28   Suzanne          5              1        18\n",
       "29    Vickie          7              1        20\n",
       "30    Wendie          5              2        21\n",
       "31       Zoe          8              3        29"
      ]
     },
     "metadata": {},
     "output_type": "display_data"
    }
   ],
   "source": [
    "# This notebook requires pandas to work\n",
    "import pandas as pd\n",
    "\n",
    "# Make sure that xlrd package, which is a pandas optional dependency, is installed\n",
    "# This package is required for Excel I/O\n",
    "try:\n",
    "    import xlrd\n",
    "except:\n",
    "    if hasattr(sys, 'real_prefix'):\n",
    "        #we are in a virtual env.\n",
    "        !pip install xlrd \n",
    "    else:\n",
    "        !pip install --user xlrd  \n",
    "        \n",
    "try:\n",
    "    from urllib2 import urlopen\n",
    "except ImportError:\n",
    "    from urllib.request import urlopen\n",
    "\n",
    "data_url = \"https://github.com/IBMDecisionOptimization/docplex-examples/blob/master/examples/mp/jupyter/nurses_data.xls?raw=true\"\n",
    "nurse_xls_file = pd.ExcelFile(urlopen(data_url))\n",
    "\n",
    "SkillTable = nurse_xls_file.parse('Skills')\n",
    "DeptTable  = nurse_xls_file.parse('Departments')\n",
    "ShiftTable = nurse_xls_file.parse('Shifts')\n",
    "SkillRequirementTable = nurse_xls_file.parse('SkillRequirements')\n",
    "NurseTable = nurse_xls_file.parse('Nurses')\n",
    "NurseSkillTable = nurse_xls_file.parse('NurseSkills')\n",
    "NurseVacationTable = nurse_xls_file.parse('NurseVacations')\n",
    "NurseAssociationTable = nurse_xls_file.parse('NurseAssociations')\n",
    "NurseIncompatibilityTable = nurse_xls_file.parse('NurseIncompatibilities')\n",
    "\n",
    "display(NurseTable)"
   ]
  },
  {
   "cell_type": "markdown",
   "metadata": {},
   "source": [
    "Now, we create some additional data structures to be used for building the prescriptive model.<br>\n",
    "The goal is to not depend on *pandas* when defining decision variables and constraints.\n",
    "The 'nurses_pandas' notebook illustrates how to benefit from pandas to build the prescriptive model."
   ]
  },
  {
   "cell_type": "code",
   "execution_count": 8,
   "metadata": {
    "collapsed": false
   },
   "outputs": [],
   "source": [
    "skills = [SkillTable[\"name\"][i] for i in range(len(SkillTable))]\n",
    "depts  = [DeptTable[\"name\"][i] for i in range(len(DeptTable))]\n",
    "nurses =[TNurse(NurseTable[\"name\"][i], NurseTable[\"pay_rate\"][i]) for i in range(len(NurseTable))]\n",
    "\n",
    "nurses = [nurse for nurse in nurses if nurse.pay_rate <25 and nurse.pay_rate >15]\n",
    "# Build {nurse: [skills]} dictionary\n",
    "nurse_skills = {}\n",
    "for nsk in NurseSkillTable.itertuples(index=False):\n",
    "    nskt= TNurseSkill(*nsk)\n",
    "    nurse_skills.setdefault(nskt.nurse, []).append(nskt.skill)\n",
    "\n",
    "shifts = [TShift(*shift_row) for shift_row in ShiftTable.itertuples(index=False)]\n",
    "skill_requirements = [TSkillRequirement(*skill_requirement_row) for skill_requirement_row in\n",
    "                      SkillRequirementTable.itertuples(index=False)]\n",
    "vacations = [TVacation(*vacation_row) for vacation_row in NurseVacationTable.itertuples(index=False)]\n",
    "nurse_associations = [TNursePair(*na) for na in NurseAssociationTable.itertuples(index=False)]\n",
    "nurse_incompatibilities = [TNursePair(*na) for na in NurseIncompatibilityTable.itertuples(index=False)]\n",
    "\n",
    "# compute shift activities (start, end, duration) and store them in a dict indexed by shifts\n",
    "shift_activities = {s: ShiftActivity(s.day, s.start_time, s.end_time) for s in shifts}\n",
    "\n",
    "# map from nurse names to nurse tuples.\n",
    "nurses_by_id = {n.name: n for n in nurses}\n",
    "\n",
    "# Work rules: max work time\n",
    "work_rules = TWorkRules(40)"
   ]
  },
  {
   "cell_type": "markdown",
   "metadata": {
    "collapsed": true
   },
   "source": [
    "### Step 5: Set up the prescriptive model"
   ]
  },
  {
   "cell_type": "code",
   "execution_count": 9,
   "metadata": {
    "collapsed": false
   },
   "outputs": [
    {
     "name": "stdout",
     "output_type": "stream",
     "text": [
      "* system is: Linux 64bit\n",
      "* Python is present, version is 3.5.2\n",
      "* docplex is present, version is (2, 5, 92)\n",
      "* CPLEX wrapper is present, version is 12.8.0.0, located at: /opt/conda/lib/python3.5/site-packages\n"
     ]
    }
   ],
   "source": [
    "from docplex.mp.environment import Environment\n",
    "env = Environment()\n",
    "env.print_information()"
   ]
  },
  {
   "cell_type": "markdown",
   "metadata": {},
   "source": [
    "#### Create the DOcplex model\n",
    "This model contains all the business constraints and defines the objective."
   ]
  },
  {
   "cell_type": "code",
   "execution_count": 10,
   "metadata": {
    "collapsed": false
   },
   "outputs": [],
   "source": [
    "from docplex.mp.model import Model\n",
    "\n",
    "mdl = Model(\"nurses\")"
   ]
  },
  {
   "cell_type": "markdown",
   "metadata": {},
   "source": [
    "#### Define the decision variables\n",
    "\n",
    "The basic decisions are \"which nurse works which shift\", which is modeled by binary variables for each (nurse, shift) pair.\n",
    "\n",
    "The output of the model is, for each shift, the list of nurses that work the shift.\n",
    "\n"
   ]
  },
  {
   "cell_type": "code",
   "execution_count": 11,
   "metadata": {
    "collapsed": false
   },
   "outputs": [],
   "source": [
    "# One binary variable for each pair (nurse, shift) equal to 1 if nurse n is assigned to shift s\n",
    "nurse_assignment_vars = mdl.binary_var_matrix(nurses, shifts, 'NurseAssigned')\n",
    "\n",
    "# For each nurse, allocate one variable for worktime\n",
    "nurse_work_time_vars = mdl.continuous_var_dict(nurses, lb=0, name='NurseWorkTime')\n",
    "\n",
    "# And two variables for over_average and under-average work time\n",
    "nurse_over_average_time_vars = mdl.continuous_var_dict(nurses, lb=0, name='NurseOverAverageWorkTime')\n",
    "nurse_under_average_time_vars = mdl.continuous_var_dict(nurses, lb=0, name='NurseUnderAverageWorkTime')\n",
    "\n",
    "# Finally the global average work time\n",
    "average_nurse_work_time = mdl.continuous_var(lb=0, name='AverageWorkTime')"
   ]
  },
  {
   "cell_type": "markdown",
   "metadata": {},
   "source": [
    "#### Express the business constraints\n",
    "##### First constraint: define average work time\n",
    "The average work time over all nurses will be used in particular to calculate the over/under average work time for each nurse, and to formulate a _fairness_ rule."
   ]
  },
  {
   "cell_type": "code",
   "execution_count": 12,
   "metadata": {
    "collapsed": false
   },
   "outputs": [
    {
     "data": {
      "text/plain": [
       "docplex.mp.LinearConstraint[average](18AverageWorkTime,EQ,NurseWorkTime_Betsy+NurseWorkTime_Cathy+NurseWorkTime_Cindy+NurseWorkTime_Debbie+NurseWorkTime_Dee+NurseWorkTime_Isabelle+NurseWorkTime_Jane+NurseWorkTime_Janelle+NurseWorkTime_Janice+NurseWorkTime_Jemma+NurseWorkTime_Joan+NurseWorkTime_Jude+NurseWorkTime_Julie+NurseWorkTime_Kate+NurseWorkTime_Patrick+NurseWorkTime_Suzanne+NurseWorkTime_Vickie+NurseWorkTime_Wendie)"
      ]
     },
     "execution_count": 12,
     "metadata": {},
     "output_type": "execute_result"
    }
   ],
   "source": [
    "mdl.add_constraint(len(nurses) * average_nurse_work_time ==\n",
    "                   mdl.sum(nurse_work_time_vars[n] for n in nurses), \"average\")"
   ]
  },
  {
   "cell_type": "markdown",
   "metadata": {},
   "source": [
    "##### Second constraint: compute nurse work time, average and under/over time"
   ]
  },
  {
   "cell_type": "code",
   "execution_count": 13,
   "metadata": {
    "collapsed": false
   },
   "outputs": [],
   "source": [
    "for n in nurses:\n",
    "    work_time_var = nurse_work_time_vars[n]\n",
    "    mdl.add_constraint(\n",
    "        work_time_var == mdl.sum(nurse_assignment_vars[n, s] * shift_activities[s].duration for s in shifts),\n",
    "        \"work_time_{0!s}\".format(n))\n",
    "\n",
    "    # Relate over/under average worktime variables to the worktime variables.\n",
    "    # The trick here is that variables have zero lower bound\n",
    "    # however, these variables are not completely defined by this constraint,\n",
    "    # only their difference is.\n",
    "    # If these variables are part of the objective, CPLEX will naturally minimize their value,\n",
    "    # as expected.\n",
    "    mdl.add_constraint(\n",
    "        work_time_var == average_nurse_work_time + nurse_over_average_time_vars[n] - nurse_under_average_time_vars[n],\n",
    "        \"average_work_time_{0!s}\".format(n))\n",
    "\n",
    "    # State the maximum work time as a constraint, so that it can be relaxed,\n",
    "    # should the problem become infeasible.\n",
    "    mdl.add_constraint(work_time_var <= work_rules.work_time_max, \"max_time_{0!s}\".format(n))"
   ]
  },
  {
   "cell_type": "markdown",
   "metadata": {},
   "source": [
    "##### Third constraint: vacations\n",
    "When a nurse is on vacation, he or she cannot be assigned to any shift starting that day."
   ]
  },
  {
   "cell_type": "code",
   "execution_count": 14,
   "metadata": {
    "collapsed": false
   },
   "outputs": [],
   "source": [
    "for vac_nurse_id, vac_day in vacations:\n",
    "        vac_n = nurses_by_id.get(vac_nurse_id, -1)\n",
    "        if vac_n != -1:\n",
    "            for shift in (s for s in shifts if s.day == vac_day):\n",
    "                mdl.add_constraint(nurse_assignment_vars[vac_n, shift] == 0,\n",
    "                                     \"medium_vacations_{0!s}_{1!s}_{2!s}\".format(vac_n, vac_day, shift))"
   ]
  },
  {
   "cell_type": "markdown",
   "metadata": {},
   "source": [
    "##### Fourth constraint: a nurse cannot be assigned overlapping shifts\n",
    "Some shifts overlap in time and thus cannot be assigned to the same nurse."
   ]
  },
  {
   "cell_type": "code",
   "execution_count": 15,
   "metadata": {
    "collapsed": false
   },
   "outputs": [
    {
     "name": "stdout",
     "output_type": "stream",
     "text": [
      "# overlapping shifts: 20\n"
     ]
    }
   ],
   "source": [
    "# Post only one constraint per couple(s1, s2)\n",
    "number_of_overlaps = 0\n",
    "nb_shifts = len(shifts)\n",
    "for i1 in range(nb_shifts):\n",
    "    for i2 in range(i1 + 1, nb_shifts):\n",
    "        s1 = shifts[i1]\n",
    "        s2 = shifts[i2]\n",
    "        if shift_activities[s1].overlaps(shift_activities[s2]):\n",
    "            number_of_overlaps += 1\n",
    "            for n in nurses:\n",
    "                mdl.add_constraint(nurse_assignment_vars[n, s1] + nurse_assignment_vars[n, s2] <= 1,\n",
    "                                   \"high_overlapping_{0!s}_{1!s}_{2!s}\".format(s1, s2, n))\n",
    "print(\"# overlapping shifts: {}\".format(number_of_overlaps))"
   ]
  },
  {
   "cell_type": "markdown",
   "metadata": {},
   "source": [
    "##### Fifth constraint: enforce minimum and maximum requirements for shifts\n",
    "Each shift requires a minimum and a maximum number of nurses. \n",
    "For each shift, the sum over all nurses of assignments to this shift\n",
    "must be greater than or equal to the minimum requirement and lesser than or equal to the maximum requirement."
   ]
  },
  {
   "cell_type": "code",
   "execution_count": 16,
   "metadata": {
    "collapsed": true
   },
   "outputs": [],
   "source": [
    "for s in shifts:\n",
    "    demand_min = s.min_requirement\n",
    "    demand_max = s.max_requirement\n",
    "    total_assigned = mdl.sum(nurse_assignment_vars[n, s] for n in nurses)\n",
    "    mdl.add_constraint(total_assigned >= demand_min,\n",
    "                       \"high_req_min_{0!s}_{1}\".format(s, demand_min))\n",
    "    mdl.add_constraint(total_assigned <= demand_max,\n",
    "                       \"medium_req_max_{0!s}_{1}\".format(s, demand_max))"
   ]
  },
  {
   "cell_type": "markdown",
   "metadata": {},
   "source": [
    "##### Sixth constraint: enforce skill requirements for selected shifts\n",
    "Some shifts require at least _x_ nurses with a specified skill."
   ]
  },
  {
   "cell_type": "code",
   "execution_count": 17,
   "metadata": {
    "collapsed": false
   },
   "outputs": [],
   "source": [
    "for (dept, skill, required) in skill_requirements:\n",
    "    if required > 0:\n",
    "        for dsh in (s for s in shifts if dept == s.department):\n",
    "            mdl.add_constraint(mdl.sum(nurse_assignment_vars[skilled_nurse, dsh] for skilled_nurse in\n",
    "                                       (n for n in nurses if n.name in nurse_skills.keys() and \n",
    "                                        skill in nurse_skills[n.name])) >= required,\n",
    "                               \"high_required_{0!s}_{1!s}_{2!s}_{3!s}\".format(dept, skill, required, dsh))"
   ]
  },
  {
   "cell_type": "markdown",
   "metadata": {},
   "source": [
    "##### Seventh constraint: associations\n",
    "Some pairs of nurses get along particularly well, so we wish to assign them together as a team. In other words, for every such pair and for each shift, both assignment variables should always be equal.\n",
    "Either both nurses work the shift, or both do not."
   ]
  },
  {
   "cell_type": "code",
   "execution_count": 18,
   "metadata": {
    "collapsed": false
   },
   "outputs": [],
   "source": [
    "# for each pair of associted nurses, their assignement variables are equal over all shifts.\n",
    "c = 0\n",
    "for (nurse_id1, nurse_id2) in nurse_associations:\n",
    "    if nurse_id1 in nurses_by_id and nurse_id2 in nurses_by_id:\n",
    "        nurse1 = nurses_by_id[nurse_id1]\n",
    "        nurse2 = nurses_by_id[nurse_id2]\n",
    "        for s in shifts:\n",
    "            c += 1\n",
    "            ctname = 'medium_ct_nurse_assoc_{0!s}_{1!s}_{2:d}'.format(nurse_id1, nurse_id2, c)\n",
    "            mdl.add_constraint(nurse_assignment_vars[nurse1, s] == nurse_assignment_vars[nurse2, s], ctname)"
   ]
  },
  {
   "cell_type": "markdown",
   "metadata": {},
   "source": [
    "##### Eighth constraint: incompatibilities\n",
    "Similarly, certain pairs of nurses do not get along well, and we want to avoid having them together on a shift.<br>\n",
    "In other words, for each shift, both nurses of an incompatible pair cannot be assigned together to the shift."
   ]
  },
  {
   "cell_type": "code",
   "execution_count": 19,
   "metadata": {
    "collapsed": true
   },
   "outputs": [],
   "source": [
    "# For each pair of incompatible nurses, the sum of assigned variables is less than one\n",
    "c = 0\n",
    "for (nurse_id1, nurse_id2) in nurse_incompatibilities:\n",
    "    if nurse_id1 in nurses_by_id and nurse_id2 in nurses_by_id:\n",
    "        nurse1 = nurses_by_id[nurse_id1]\n",
    "        nurse2 = nurses_by_id[nurse_id2]\n",
    "        for s in shifts:\n",
    "            c += 1\n",
    "            ctname = 'medium_ct_nurse_incompat_{0!s}_{1!s}_{2:d}'.format(nurse_id1, nurse_id2, c)\n",
    "            mdl.add_constraint(nurse_assignment_vars[nurse1, s] + nurse_assignment_vars[nurse2, s] <= 1, ctname)"
   ]
  },
  {
   "cell_type": "markdown",
   "metadata": {},
   "source": [
    "#### Express the objective\n",
    "The objective mixes different (and contradictory) KPIs. \n",
    "\n",
    "The first KPI is the total salary cost, computed as the sum of work times over all nurses, weighted by pay rate.<br>\n",
    "The second KPI is the total number of assignments (nurse, shift).<br>\n",
    "The third KPI is the average total work time over all nurses.<br>\n",
    "The fourth KPI represents the total number of hours that is above the average work time (summed over all nurses), while the fifth KPI represents the total number of hours that is below this average.\n",
    "<br>\n",
    "Finally, the last KPI is a measure of fairness, which is evaluated as the total deviation from the average work time."
   ]
  },
  {
   "cell_type": "code",
   "execution_count": 20,
   "metadata": {
    "collapsed": false
   },
   "outputs": [
    {
     "name": "stdout",
     "output_type": "stream",
     "text": [
      "Model: nurses\n",
      " - number of variables: 793\n",
      "   - binary=738, integer=0, continuous=55\n",
      " - number of constraints: 961\n",
      "   - linear=961\n",
      " - parameters: defaults\n"
     ]
    }
   ],
   "source": [
    "total_number_of_assignments = mdl.sum(nurse_assignment_vars[n,s] for n in nurses for s in shifts)\n",
    "nurse_costs = [nurse_assignment_vars[n, s] * n.pay_rate * shift_activities[s].duration for n in nurses for s in shifts]\n",
    "total_salary_cost = mdl.sum(nurse_costs)\n",
    "mdl.add_kpi(total_salary_cost, \"Total salary cost\")\n",
    "mdl.add_kpi(total_number_of_assignments, \"Total number of assignments\")\n",
    "mdl.add_kpi(average_nurse_work_time)\n",
    "\n",
    "total_over_average_worktime = mdl.sum(nurse_over_average_time_vars[n] for n in nurses)\n",
    "total_under_average_worktime = mdl.sum(nurse_under_average_time_vars[n] for n in nurses)\n",
    "mdl.add_kpi(total_over_average_worktime, \"Total over-average worktime\")\n",
    "mdl.add_kpi(total_under_average_worktime, \"Total under-average worktime\")\n",
    "\n",
    "total_fairness = total_over_average_worktime + total_under_average_worktime\n",
    "mdl.add_kpi(total_fairness, \"Total fairness\")\n",
    "\n",
    "mdl.print_information()"
   ]
  },
  {
   "cell_type": "markdown",
   "metadata": {},
   "source": [
    "##### Minimizing objective\n",
    "The goal is to minimize the non-weighted sum of the _total salary cost_, _fairness_ and _total number of assignment_.<br>\n",
    "This is accomplished using the `Model.minimize()` method.<br>\n",
    "\n",
    "This definition is arbitrary and could be revised. For instance, one could emphasize minimizing salary cost by adding a weight on this term in the objective."
   ]
  },
  {
   "cell_type": "code",
   "execution_count": 21,
   "metadata": {
    "collapsed": true
   },
   "outputs": [],
   "source": [
    "mdl.minimize(total_salary_cost + total_fairness + total_number_of_assignments)"
   ]
  },
  {
   "cell_type": "markdown",
   "metadata": {},
   "source": [
    "#### Solve with the Decision Optimization solve service\n",
    "Now we have everything we need to solve the model, using `Model.solve()`. The following cell solves using your local CPLEX (if any, and provided you have added it to your `PYTHONPATH` variable). \n",
    "If you do not have CPLEX installed, please enter your DOcplexcloud credentials below in the `key` and `url` fields in order to solve with DOcplexcloud."
   ]
  },
  {
   "cell_type": "code",
   "execution_count": 22,
   "metadata": {
    "collapsed": false
   },
   "outputs": [
    {
     "name": "stdout",
     "output_type": "stream",
     "text": [
      "CPXPARAM_Read_DataCheck                          1\n",
      "CPXPARAM_MIP_Tolerances_MIPGap                   1.0000000000000001e-05\n",
      "Row 'work_time_Betsy' infeasible, all entries at implied bounds.\n",
      "Presolve time = 0.00 sec. (0.35 ticks)\n",
      "\n",
      "Root node processing (before b&c):\n",
      "  Real time             =    0.00 sec. (0.51 ticks)\n",
      "Parallel b&c, 12 threads:\n",
      "  Real time             =    0.00 sec. (0.00 ticks)\n",
      "  Sync time (average)   =    0.00 sec.\n",
      "  Wait time (average)   =    0.00 sec.\n",
      "                          ------------\n",
      "Total (root+branch&cut) =    0.00 sec. (0.51 ticks)\n",
      "Warning: 55 constraint(s) will not be relaxed (e.g.: average: 18AverageWorkTime == NurseWorkTime_Betsy+NurseWorkTime_Cathy+NurseWorkTime_Cindy+NurseWorkTime_Debbie+NurseWorkTime_Dee+NurseWorkTime_Isabelle+NurseWorkTime_Jane+NurseWorkTime_Janelle+NurseWorkTime_Janice+NurseWorkTime_Jemma+NurseWorkTime_Joan+NurseWorkTime_Jude+NurseWorkTime_Julie+NurseWorkTime_Kate+NurseWorkTime_Patrick+NurseWorkTime_Suzanne+NurseWorkTime_Vickie+NurseWorkTime_Wendie)\n",
      "-- starting relaxation. mode: OptSum, precision=1e-05\n",
      "-> relaxation #1 starts with priority: MEDIUM, #relaxables=480\n",
      "<- relaxation #1 fails, priority: MEDIUM, #relaxables=480\n",
      "-> relaxation #2 starts with priority: HIGH, #relaxables=906\n",
      "<- relaxation #2 succeeds: priority: HIGH, #relaxables=906, obj=14097.333187676768, #relaxations=36\n",
      "* number of relaxations: 36\n",
      " - relaxed: high_req_min_CONS_Tue_08_10, with relaxation: -5.0\n",
      " - relaxed: high_req_min_CARD_Tue_18_3, with relaxation: -3.0\n",
      " - relaxed: high_req_min_EMER_Fri_18_3, with relaxation: -3.0\n",
      " - relaxed: high_req_min_EMER_Mon_12_2, with relaxation: -1.0\n",
      " - relaxed: high_required_Emergency_Cardiac Care_1_EMER_Tue_12, with relaxation: -1.0\n",
      " - relaxed: high_req_min_EMER_Mon_18_3, with relaxation: -3.0\n",
      " - relaxed: high_req_min_EMER_Sun_02_5, with relaxation: -5.0\n",
      " - relaxed: high_req_min_CONS_Fri_12_8, with relaxation: -2.0\n",
      " - relaxed: high_req_min_CONS_Thu_12_8, with relaxation: -2.000000000000001\n",
      " - relaxed: high_required_Emergency_Cardiac Care_1_EMER_Tue_18, with relaxation: -1.0\n",
      " - relaxed: high_req_min_EMER_Thu_18_3, with relaxation: -3.0\n",
      " - relaxed: high_req_min_EMER_Sat_02_5, with relaxation: -5.0\n",
      " - relaxed: high_req_min_EMER_Sun_20_8, with relaxation: -1.0\n",
      " - relaxed: high_req_min_CARD_Mon_12_8, with relaxation: -3.0\n",
      " - relaxed: high_required_Emergency_Cardiac Care_1_EMER_Sat_12, with relaxation: -1.0\n",
      " - relaxed: high_req_min_CARD_Mon_08_10, with relaxation: -5.0\n",
      " - relaxed: high_req_min_EMER_Fri_12_2, with relaxation: -1.0\n",
      " - relaxed: high_req_min_CONS_Tue_12_8, with relaxation: -3.999999999999999\n",
      " - relaxed: high_req_min_CARD_Tue_08_4, with relaxation: -2.0\n",
      " - relaxed: high_req_min_EMER_Wed_18_3, with relaxation: -3.0\n",
      " - relaxed: high_required_Emergency_Cardiac Care_1_EMER_Sun_02, with relaxation: -1.0\n",
      " - relaxed: high_required_Emergency_Cardiac Care_1_EMER_Sat_02, with relaxation: -1.0\n",
      " - relaxed: high_req_min_EMER_Sat_20_12, with relaxation: -3.0\n",
      " - relaxed: high_required_Emergency_Cardiac Care_1_EMER_Mon_18, with relaxation: -1.0\n",
      " - relaxed: high_req_min_CONS_Mon_08_10, with relaxation: -6.0\n",
      " - relaxed: high_required_Emergency_Cardiac Care_1_EMER_Wed_18, with relaxation: -1.0\n",
      " - relaxed: high_required_Emergency_Cardiac Care_1_EMER_Sun_12, with relaxation: -1.0\n",
      " - relaxed: high_required_Emergency_Cardiac Care_1_EMER_Thu_18, with relaxation: -1.0\n",
      " - relaxed: high_req_min_EMER_Tue_18_3, with relaxation: -3.0\n",
      " - relaxed: high_req_min_CONS_Fri_08_10, with relaxation: -3.0\n",
      " - relaxed: high_required_Emergency_Cardiac Care_1_EMER_Wed_02, with relaxation: -1.0\n",
      " - relaxed: high_req_min_EMER_Sun_12_7, with relaxation: -5.0\n",
      " - relaxed: high_req_min_CONS_Mon_12_8, with relaxation: -6.0\n",
      " - relaxed: high_req_min_CONS_Thu_08_10, with relaxation: -2.0\n",
      " - relaxed: high_req_min_EMER_Sat_12_7, with relaxation: -7.0\n",
      " - relaxed: high_required_Emergency_Cardiac Care_1_EMER_Fri_18, with relaxation: -1.0\n",
      "* total absolute relaxation: 97.0\n",
      "* model nurses solved with objective = 14097.333\n",
      "*  KPI: Total salary cost            = 13940.000\n",
      "*  KPI: Total number of assignments  = 134.000\n",
      "*  KPI: AverageWorkTime              = 37.667\n",
      "*  KPI: Total over-average worktime  = 11.667\n",
      "*  KPI: Total under-average worktime = 11.667\n",
      "*  KPI: Total fairness               = 23.333\n"
     ]
    }
   ],
   "source": [
    "# Set Cplex mipgap to 1e-5 to enforce precision to be of the order of a unit (objective value magnitude is ~1e+5).\n",
    "mdl.parameters.mip.tolerances.mipgap = 1e-5\n",
    "\n",
    "s = mdl.solve(url=url, key=key, log_output=True)\n",
    "if not s:\n",
    "    # solve has failed, we try relaxation, based on constraint names\n",
    "    # constraints are prioritized according to their names\n",
    "    # if a name contains \"low\", it has priority LOW\n",
    "    # if a ct name contains \"medium\" it has priority MEDIUM\n",
    "    # same for HIGH\n",
    "    # if a constraint has no name or does not match any, it is not relaxable.\n",
    "    from docplex.mp.relaxer import Relaxer\n",
    "    relaxer = Relaxer(prioritizer='match', verbose=True)\n",
    "    # self.enable_trace()\n",
    "    #self.parameters.mip.tolerances.mipgap = 0.03 # 3%\n",
    "    relaxed_sol = relaxer.relax(mdl)\n",
    "    relaxed_ok = relaxed_sol is not None\n",
    "    assert relaxed_ok, \"relaxation failed\"\n",
    "    relaxer.print_information()\n",
    "\n",
    "mdl.report()"
   ]
  },
  {
   "cell_type": "markdown",
   "metadata": {},
   "source": [
    "### Step 6: Investigate the solution and then run an example analysis"
   ]
  },
  {
   "cell_type": "markdown",
   "metadata": {},
   "source": [
    "Let's display some charts to visualize the results: a Gantt chart displaying the assignment of nurses to shifts in a Gantt chart, and another chart showing the number of assigned nurses to each department over time."
   ]
  },
  {
   "cell_type": "code",
   "execution_count": 23,
   "metadata": {
    "collapsed": false
   },
   "outputs": [
    {
     "data": {
      "text/plain": [
       "-24"
      ]
     },
     "execution_count": 23,
     "metadata": {},
     "output_type": "execute_result"
    }
   ],
   "source": [
    "min(shift_activities, key=lambda i: shift_activities[i].day_start_time)\n",
    "min(s.day_start_time for s in shift_activities.values())"
   ]
  },
  {
   "cell_type": "code",
   "execution_count": 24,
   "metadata": {
    "collapsed": false
   },
   "outputs": [
    {
     "name": "stderr",
     "output_type": "stream",
     "text": [
      "/opt/conda/lib/python3.5/site-packages/matplotlib/font_manager.py:273: UserWarning: Matplotlib is building the font cache using fc-list. This may take a moment.\n",
      "  warnings.warn('Matplotlib is building the font cache using fc-list. This may take a moment.')\n",
      "/opt/conda/lib/python3.5/site-packages/matplotlib/font_manager.py:273: UserWarning: Matplotlib is building the font cache using fc-list. This may take a moment.\n",
      "  warnings.warn('Matplotlib is building the font cache using fc-list. This may take a moment.')\n"
     ]
    },
    {
     "data": {
      "image/png": "[encoded data removed]",
      "text/plain": [
       "<matplotlib.figure.Figure at 0x7f6b28e4b4e0>"
      ]
     },
     "metadata": {},
     "output_type": "display_data"
    }
   ],
   "source": [
    "import matplotlib.pyplot as plt\n",
    "import matplotlib.gridspec as gridspec\n",
    "%matplotlib inline\n",
    "\n",
    "# Build set of all departments and assign a color to each of them to be used in figures\n",
    "departments = {s.department for s in shifts}\n",
    "colorByDepartment = {}\n",
    "for d, c in zip(departments, ['r', 'm', 'b', 'g', 'y', 'c', 'k']):\n",
    "    colorByDepartment[d] = c\n",
    "\n",
    "# Build dictionary with number of assigned nurses for each shift\n",
    "nbAssignmentsByShift={}\n",
    "for n in nurses:\n",
    "    for s in shifts:\n",
    "        if nurse_assignment_vars[n,s].solution_value > 0:\n",
    "            nbAssignmentsByShift[s] = nbAssignmentsByShift.get(s,0) + 1\n",
    "\n",
    "# Build a dictionary with the list of each shift corresponding to each department\n",
    "shiftsByDepartment = {}\n",
    "for s in shifts:\n",
    "    shiftsByDepartment.setdefault(s.department, []).append(s)\n",
    "\n",
    "\n",
    "# Shared code\n",
    "def createLabels(ax, title, xlabel, ylabel):\n",
    "    shiftInfoByDay = {s1.day : s1 for s1 in shifts}\n",
    "    try: # Python 2\n",
    "        plt.xticks([shift_activities[s].day_start_time + w * 7 * 24 for w in [0,1] for (d, s) in shiftInfoByDay.iteritems()],\n",
    "              [\"{}\".format(s.day) for w in [0,1] for (d, s) in shiftInfoByDay.iteritems()])\n",
    "    except:\n",
    "        plt.xticks([shift_activities[s].day_start_time + w * 7 * 24 for w in [0,1] for (d, s) in shiftInfoByDay.items()],\n",
    "              [\"{}\".format(s.day) for w in [0,1] for (d, s) in shiftInfoByDay.items()])\n",
    "\n",
    "    plt.xlim([min(s.day_start_time for s in shift_activities.values()) - 6,\n",
    "              max(s.day_start_time for s in shift_activities.values()) + 30])\n",
    "    ax.set_xlabel(xlabel)\n",
    "    ax.set_ylabel(ylabel)\n",
    "    ax.grid()\n",
    "    ax.set_title(title)\n",
    "\n",
    "# Plot shift assignments for each nurse\n",
    "def displayNursesAssignmentsGantt(ax):\n",
    "    ylabels, tickloc = [], []\n",
    "    for i, n in enumerate(nurses):\n",
    "        for s in shifts:\n",
    "            if nurse_assignment_vars[n,s].solution_value > 0:\n",
    "                shift_activity = shift_activities[s]\n",
    "                ax.bar(shift_activity.start_time, 0.8,\n",
    "                       width=shift_activity.end_time - shift_activity.start_time, bottom=i + 0.1,\n",
    "                       color=colorByDepartment[s.department])\n",
    "\n",
    "        ylabels.append(\"{} (worked: {} hours)\".format(str(n), nurse_work_time_vars[n].solution_value))\n",
    "        tickloc.append(i + 0.5)\n",
    "\n",
    "    plt.ylim(0, len(nurses))\n",
    "    plt.yticks(tickloc, ylabels)\n",
    "\n",
    "    # Create labels on x/y axis\n",
    "    createLabels(ax, 'SHIFTS ASSIGNMENTS', 'DAY OF WEEK', 'NURSES')\n",
    "\n",
    "# Plot number of assigned nurses for each shift, by department\n",
    "def displayDepartmentsAssignments(ax):\n",
    "    ylabels, tickloc = [], []\n",
    "    maxNbAssignements = max(nbAssignmentsByShift.values())\n",
    "    for i, d in enumerate(departments):\n",
    "        for s in shiftsByDepartment[d]:\n",
    "            shift_activity = shift_activities[s]\n",
    "            ax.bar(shift_activity.start_time, nbAssignmentsByShift.get(s, 0) / float(maxNbAssignements + 1),\n",
    "                   width=shift_activity.end_time - shift_activity.start_time, bottom=i + 0.5,\n",
    "                   color=colorByDepartment[s.department])\n",
    "        ylabels.append(\"{}\".format(d))\n",
    "        tickloc.append(i + 0.5)\n",
    "\n",
    "    plt.ylim(0, len(departments) + 0.5)\n",
    "    plt.yticks(tickloc, ylabels)\n",
    "\n",
    "    # Create labels on x/y axis\n",
    "    createLabels(ax, 'NUMBER OF ASSIGNED NURSES', 'DAY OF WEEK', 'DEPARTMENTS')\n",
    "\n",
    "# Display figures as two sub-plots so that they are vertically aligned\n",
    "fig = plt.figure(figsize=[14,12])\n",
    "gs = gridspec.GridSpec(2, 1, height_ratios=[3,1])\n",
    "\n",
    "ax = plt.subplot(gs[0])\n",
    "displayNursesAssignmentsGantt(ax)\n",
    "\n",
    "ax = plt.subplot(gs[1])\n",
    "displayDepartmentsAssignments(ax)"
   ]
  },
  {
   "cell_type": "markdown",
   "metadata": {},
   "source": [
    "## Summary\n",
    "\n",
    "You learned how to set up and use IBM Decision Optimization CPLEX Modeling for Python to formulate a Mathematical Programming model and solve it with IBM Decision Optimization on Cloud."
   ]
  },
  {
   "cell_type": "markdown",
   "metadata": {},
   "source": [
    "## References\n",
    "* [CPLEX Modeling for Python documentation](https://rawgit.com/IBMDecisionOptimization/docplex-doc/master/docs/index.html)\n",
    "* [Decision Optimization on Cloud](https://developer.ibm.com/docloud/)\n",
    "* Need help with DOcplex or to report a bug? Please go [here](https://developer.ibm.com/answers/smartspace/docloud).\n",
    "* Contact us at dofeedback@wwpdl.vnet.ibm.com."
   ]
  },
  {
   "cell_type": "markdown",
   "metadata": {},
   "source": [
    "Copyright © 2017 IBM. IPLA licensed Sample Materials."
   ]
  }
 ],
 "metadata": {
  "anaconda-cloud": {},
  "kernelspec": {
   "display_name": "Python [default]",
   "language": "python",
   "name": "python3"
  },
  "language_info": {
   "codemirror_mode": {
    "name": "ipython",
    "version": 3
   },
   "file_extension": ".py",
   "mimetype": "text/x-python",
   "name": "python",
   "nbconvert_exporter": "python",
   "pygments_lexer": "ipython3",
   "version": "3.5.2"
  }
 },
 "nbformat": 4,
 "nbformat_minor": 0
}
